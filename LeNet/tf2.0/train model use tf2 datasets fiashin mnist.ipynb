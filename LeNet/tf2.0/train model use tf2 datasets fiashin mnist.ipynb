{
 "cells": [
  {
   "cell_type": "code",
   "execution_count": 1,
   "metadata": {},
   "outputs": [],
   "source": [
    "import tensorflow.keras as keras\n",
    "import tensorflow.compat.v2 as tf\n",
    "from utils.read_mnist import read_fashion_mnist\n",
    "import lenet"
   ]
  },
  {
   "cell_type": "code",
   "execution_count": 2,
   "metadata": {},
   "outputs": [],
   "source": [
    "train_x, train_y, test_x, test_y,index2class = read_fashion_mnist(one_hot=True, standard=True)"
   ]
  },
  {
   "cell_type": "code",
   "execution_count": 3,
   "metadata": {},
   "outputs": [],
   "source": [
    "model = lenet.model(regular=0.00001)"
   ]
  },
  {
   "cell_type": "code",
   "execution_count": 4,
   "metadata": {},
   "outputs": [],
   "source": [
    "tensorboardlog = r\"trainlogs\\\\\"\n",
    "trainlogdir = tensorboardlog\n",
    "scalarlogdir = tensorboardlog\n",
    "tensorboard_callback = keras.callbacks.TensorBoard(log_dir=trainlogdir)\n",
    "file_writer = tf.summary.create_file_writer(scalarlogdir)\n",
    "file_writer.set_as_default()"
   ]
  },
  {
   "cell_type": "code",
   "execution_count": 5,
   "metadata": {},
   "outputs": [],
   "source": [
    "def lr_schedule(epoch):\n",
    "    \"\"\"Returns a custom learning rate that decreases as epochs progress.    \"\"\"\n",
    "    learning_rate = 0.02\n",
    "    if epoch > 2:\n",
    "        learning_rate = 0.002\n",
    "    if epoch > 4:\n",
    "        learning_rate = 0.0001\n",
    "    if epoch > 6:\n",
    "        learning_rate = 0.00001\n",
    "    if epoch > 8:\n",
    "        learning_rate = 0.00001\n",
    "\n",
    "    tf.summary.scalar('learning rate', data=learning_rate, step=epoch)\n",
    "    return learning_rate"
   ]
  },
  {
   "cell_type": "code",
   "execution_count": 6,
   "metadata": {},
   "outputs": [],
   "source": [
    "lr_callback = tf.keras.callbacks.LearningRateScheduler(lr_schedule)\n",
    "earlystops = tf.keras.callbacks.EarlyStopping(monitor='loss', patience=3)"
   ]
  },
  {
   "cell_type": "code",
   "execution_count": 7,
   "metadata": {},
   "outputs": [],
   "source": [
    "model.compile(optimizer=tf.keras.optimizers.SGD(),\n",
    "              loss=tf.keras.losses.categorical_crossentropy,\n",
    "              metrics=['accuracy'])"
   ]
  },
  {
   "cell_type": "code",
   "execution_count": 8,
   "metadata": {},
   "outputs": [],
   "source": [
    "callbacks = [tensorboard_callback,\n",
    "             earlystops, lr_callback]"
   ]
  },
  {
   "cell_type": "code",
   "execution_count": 9,
   "metadata": {},
   "outputs": [
    {
     "name": "stderr",
     "output_type": "stream",
     "text": [
      "WARNING: Logging before flag parsing goes to stderr.\n",
      "W0922 22:16:32.556391 16896 deprecation.py:323] From D:\\anaconda\\envs\\tensorflow2\\lib\\site-packages\\tensorflow\\python\\ops\\math_grad.py:1250: add_dispatch_support.<locals>.wrapper (from tensorflow.python.ops.array_ops) is deprecated and will be removed in a future version.\n",
      "Instructions for updating:\n",
      "Use tf.where in 2.0, which has the same broadcast rule as np.where\n"
     ]
    },
    {
     "name": "stdout",
     "output_type": "stream",
     "text": [
      "Train on 10000 samples, validate on 60000 samples\n",
      "Epoch 1/10\n",
      "10000/10000 [==============================] - 4s 444us/sample - loss: 2.2504 - accuracy: 0.1613 - val_loss: 2.0245 - val_accuracy: 0.3645\n",
      "Epoch 2/10\n",
      "10000/10000 [==============================] - 4s 403us/sample - loss: 1.7604 - accuracy: 0.3371 - val_loss: 1.1618 - val_accuracy: 0.6071\n",
      "Epoch 3/10\n",
      "10000/10000 [==============================] - 4s 407us/sample - loss: 1.3626 - accuracy: 0.4814 - val_loss: 0.9614 - val_accuracy: 0.6705\n",
      "Epoch 4/10\n",
      "10000/10000 [==============================] - 4s 400us/sample - loss: 1.2135 - accuracy: 0.5408 - val_loss: 0.9214 - val_accuracy: 0.6970\n",
      "Epoch 5/10\n",
      "10000/10000 [==============================] - 4s 393us/sample - loss: 1.1956 - accuracy: 0.5455 - val_loss: 0.9052 - val_accuracy: 0.6938\n",
      "Epoch 6/10\n",
      "10000/10000 [==============================] - 4s 398us/sample - loss: 1.1786 - accuracy: 0.5518 - val_loss: 0.9027 - val_accuracy: 0.6964\n",
      "Epoch 7/10\n",
      "10000/10000 [==============================] - 4s 397us/sample - loss: 1.1714 - accuracy: 0.5516 - val_loss: 0.9006 - val_accuracy: 0.6981\n",
      "Epoch 8/10\n",
      "10000/10000 [==============================] - 4s 397us/sample - loss: 1.1733 - accuracy: 0.5539 - val_loss: 0.9005 - val_accuracy: 0.6982\n",
      "Epoch 9/10\n",
      "10000/10000 [==============================] - 4s 402us/sample - loss: 1.1716 - accuracy: 0.5534 - val_loss: 0.9003 - val_accuracy: 0.6985\n",
      "Epoch 10/10\n",
      "10000/10000 [==============================] - 4s 405us/sample - loss: 1.1621 - accuracy: 0.5587 - val_loss: 0.9002 - val_accuracy: 0.6985\n"
     ]
    }
   ],
   "source": [
    "history = model.fit(x=train_x, y=train_y,\n",
    "                    batch_size=64,\n",
    "                    epochs=10,\n",
    "                    validation_data=(test_x, test_y),\n",
    "                    shuffle=True,\n",
    "                    callbacks=callbacks)"
   ]
  },
  {
   "cell_type": "code",
   "execution_count": 10,
   "metadata": {},
   "outputs": [
    {
     "name": "stdout",
     "output_type": "stream",
     "text": [
      "60000/60000 [==============================] - 4s 69us/sample - loss: 0.9002 - accuracy: 0.6985\n"
     ]
    },
    {
     "data": {
      "text/plain": [
       "[0.9001736283620199, 0.69853336]"
      ]
     },
     "execution_count": 10,
     "metadata": {},
     "output_type": "execute_result"
    }
   ],
   "source": [
    "model.evaluate(test_x, test_y)"
   ]
  },
  {
   "cell_type": "code",
   "execution_count": 11,
   "metadata": {},
   "outputs": [
    {
     "name": "stdout",
     "output_type": "stream",
     "text": [
      "Model: \"model\"\n",
      "_________________________________________________________________\n",
      "Layer (type)                 Output Shape              Param #   \n",
      "=================================================================\n",
      "input_1 (InputLayer)         [(None, 28, 28, 1)]       0         \n",
      "_________________________________________________________________\n",
      "conv2d (Conv2D)              (None, 24, 24, 6)         156       \n",
      "_________________________________________________________________\n",
      "max_pooling2d (MaxPooling2D) (None, 12, 12, 6)         0         \n",
      "_________________________________________________________________\n",
      "conv2d_1 (Conv2D)            (None, 8, 8, 16)          2416      \n",
      "_________________________________________________________________\n",
      "max_pooling2d_1 (MaxPooling2 (None, 4, 4, 16)          0         \n",
      "_________________________________________________________________\n",
      "flatten (Flatten)            (None, 256)               0         \n",
      "_________________________________________________________________\n",
      "dense (Dense)                (None, 120)               30840     \n",
      "_________________________________________________________________\n",
      "dropout (Dropout)            (None, 120)               0         \n",
      "_________________________________________________________________\n",
      "dense_1 (Dense)              (None, 84)                10164     \n",
      "_________________________________________________________________\n",
      "dropout_1 (Dropout)          (None, 84)                0         \n",
      "_________________________________________________________________\n",
      "dense_2 (Dense)              (None, 10)                850       \n",
      "=================================================================\n",
      "Total params: 44,426\n",
      "Trainable params: 44,426\n",
      "Non-trainable params: 0\n",
      "_________________________________________________________________\n"
     ]
    }
   ],
   "source": [
    "model.summary()"
   ]
  },
  {
   "cell_type": "code",
   "execution_count": 12,
   "metadata": {},
   "outputs": [],
   "source": [
    "model.save('mymodelfashinmnist.h5')"
   ]
  },
  {
   "cell_type": "code",
   "execution_count": 13,
   "metadata": {},
   "outputs": [],
   "source": [
    "model.save('mymodelfashinmnist')"
   ]
  },
  {
   "cell_type": "code",
   "execution_count": null,
   "metadata": {},
   "outputs": [],
   "source": []
  }
 ],
 "metadata": {
  "kernelspec": {
   "display_name": "tensorflow2",
   "language": "python",
   "name": "tensorflow2"
  },
  "language_info": {
   "codemirror_mode": {
    "name": "ipython",
    "version": 3
   },
   "file_extension": ".py",
   "mimetype": "text/x-python",
   "name": "python",
   "nbconvert_exporter": "python",
   "pygments_lexer": "ipython3",
   "version": "3.6.8"
  }
 },
 "nbformat": 4,
 "nbformat_minor": 2
}
