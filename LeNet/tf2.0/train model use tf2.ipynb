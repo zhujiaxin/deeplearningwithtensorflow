{
 "cells": [
  {
   "cell_type": "code",
   "execution_count": 1,
   "metadata": {},
   "outputs": [],
   "source": [
    "import tensorflow.keras as keras\n",
    "import tensorflow.compat.v2 as tf\n",
    "from utils.read_mnist import read_mnist\n",
    "import lenet"
   ]
  },
  {
   "cell_type": "code",
   "execution_count": 2,
   "metadata": {},
   "outputs": [],
   "source": [
    "train_x, train_y, test_x, test_y = read_mnist(one_hot=True, standard=True)"
   ]
  },
  {
   "cell_type": "code",
   "execution_count": 3,
   "metadata": {},
   "outputs": [],
   "source": [
    "model = lenet.model(regular=0.00001)"
   ]
  },
  {
   "cell_type": "code",
   "execution_count": 4,
   "metadata": {},
   "outputs": [],
   "source": [
    "tensorboardlog = r\"trainlogs\\\\\"\n",
    "trainlogdir = tensorboardlog\n",
    "scalarlogdir = tensorboardlog\n",
    "tensorboard_callback = keras.callbacks.TensorBoard(log_dir=trainlogdir)\n",
    "file_writer = tf.summary.create_file_writer(scalarlogdir)\n",
    "file_writer.set_as_default()"
   ]
  },
  {
   "cell_type": "code",
   "execution_count": 5,
   "metadata": {},
   "outputs": [],
   "source": [
    "def lr_schedule(epoch):\n",
    "    \"\"\"Returns a custom learning rate that decreases as epochs progress.    \"\"\"\n",
    "    learning_rate = 0.02\n",
    "    if epoch > 2:\n",
    "        learning_rate = 0.002\n",
    "    if epoch > 4:\n",
    "        learning_rate = 0.0001\n",
    "    if epoch > 6:\n",
    "        learning_rate = 0.00001\n",
    "    if epoch > 8:\n",
    "        learning_rate = 0.00001\n",
    "\n",
    "    tf.summary.scalar('learning rate', data=learning_rate, step=epoch)\n",
    "    return learning_rate"
   ]
  },
  {
   "cell_type": "code",
   "execution_count": 6,
   "metadata": {},
   "outputs": [],
   "source": [
    "lr_callback = tf.keras.callbacks.LearningRateScheduler(lr_schedule)\n",
    "earlystops = tf.keras.callbacks.EarlyStopping(monitor='loss', patience=3)"
   ]
  },
  {
   "cell_type": "code",
   "execution_count": 7,
   "metadata": {},
   "outputs": [],
   "source": [
    "model.compile(optimizer=tf.keras.optimizers.SGD(),\n",
    "              loss=tf.keras.losses.categorical_crossentropy,\n",
    "              metrics=['accuracy'])"
   ]
  },
  {
   "cell_type": "code",
   "execution_count": 8,
   "metadata": {},
   "outputs": [],
   "source": [
    "callbacks = [tensorboard_callback,\n",
    "             earlystops, lr_callback]"
   ]
  },
  {
   "cell_type": "code",
   "execution_count": 9,
   "metadata": {},
   "outputs": [
    {
     "name": "stderr",
     "output_type": "stream",
     "text": [
      "WARNING: Logging before flag parsing goes to stderr.\n",
      "W0922 21:58:47.541370 18892 deprecation.py:323] From D:\\anaconda\\envs\\tensorflow2\\lib\\site-packages\\tensorflow\\python\\ops\\math_grad.py:1250: add_dispatch_support.<locals>.wrapper (from tensorflow.python.ops.array_ops) is deprecated and will be removed in a future version.\n",
      "Instructions for updating:\n",
      "Use tf.where in 2.0, which has the same broadcast rule as np.where\n"
     ]
    },
    {
     "name": "stdout",
     "output_type": "stream",
     "text": [
      "Train on 60000 samples, validate on 10000 samples\n",
      "Epoch 1/10\n",
      "60000/60000 [==============================] - 8s 135us/sample - loss: 1.1677 - accuracy: 0.6014 - val_loss: 0.2563 - val_accuracy: 0.9261\n",
      "Epoch 2/10\n",
      "60000/60000 [==============================] - 8s 129us/sample - loss: 0.4242 - accuracy: 0.8754 - val_loss: 0.1635 - val_accuracy: 0.9515\n",
      "Epoch 3/10\n",
      "60000/60000 [==============================] - 8s 127us/sample - loss: 0.3094 - accuracy: 0.9133 - val_loss: 0.1313 - val_accuracy: 0.9625\n",
      "Epoch 4/10\n",
      "60000/60000 [==============================] - 8s 129us/sample - loss: 0.2535 - accuracy: 0.9296 - val_loss: 0.1195 - val_accuracy: 0.9657\n",
      "Epoch 5/10\n",
      "60000/60000 [==============================] - 8s 129us/sample - loss: 0.2444 - accuracy: 0.9331 - val_loss: 0.1156 - val_accuracy: 0.9666\n",
      "Epoch 6/10\n",
      "60000/60000 [==============================] - 8s 137us/sample - loss: 0.2411 - accuracy: 0.9331 - val_loss: 0.1155 - val_accuracy: 0.9670\n",
      "Epoch 7/10\n",
      "60000/60000 [==============================] - 9s 147us/sample - loss: 0.2420 - accuracy: 0.9327 - val_loss: 0.1159 - val_accuracy: 0.9671\n",
      "Epoch 8/10\n",
      "60000/60000 [==============================] - 8s 138us/sample - loss: 0.2369 - accuracy: 0.9341 - val_loss: 0.1158 - val_accuracy: 0.9671\n",
      "Epoch 9/10\n",
      "60000/60000 [==============================] - 8s 137us/sample - loss: 0.2388 - accuracy: 0.9344 - val_loss: 0.1158 - val_accuracy: 0.9672\n",
      "Epoch 10/10\n",
      "60000/60000 [==============================] - 8s 137us/sample - loss: 0.2351 - accuracy: 0.9350 - val_loss: 0.1157 - val_accuracy: 0.9672\n"
     ]
    }
   ],
   "source": [
    "history = model.fit(x=train_x, y=train_y,\n",
    "                    batch_size=64,\n",
    "                    epochs=10,\n",
    "                    validation_data=(test_x, test_y),\n",
    "                    shuffle=True,\n",
    "                    callbacks=callbacks)"
   ]
  },
  {
   "cell_type": "code",
   "execution_count": 10,
   "metadata": {},
   "outputs": [
    {
     "name": "stdout",
     "output_type": "stream",
     "text": [
      "10000/10000 [==============================] - 1s 75us/sample - loss: 0.1157 - accuracy: 0.9672\n"
     ]
    },
    {
     "data": {
      "text/plain": [
       "[0.11570903295725583, 0.9672]"
      ]
     },
     "execution_count": 10,
     "metadata": {},
     "output_type": "execute_result"
    }
   ],
   "source": [
    "model.evaluate(test_x, test_y)"
   ]
  },
  {
   "cell_type": "code",
   "execution_count": 11,
   "metadata": {},
   "outputs": [
    {
     "name": "stdout",
     "output_type": "stream",
     "text": [
      "Model: \"model\"\n",
      "_________________________________________________________________\n",
      "Layer (type)                 Output Shape              Param #   \n",
      "=================================================================\n",
      "input_1 (InputLayer)         [(None, 28, 28, 1)]       0         \n",
      "_________________________________________________________________\n",
      "conv2d (Conv2D)              (None, 24, 24, 6)         156       \n",
      "_________________________________________________________________\n",
      "max_pooling2d (MaxPooling2D) (None, 12, 12, 6)         0         \n",
      "_________________________________________________________________\n",
      "conv2d_1 (Conv2D)            (None, 8, 8, 16)          2416      \n",
      "_________________________________________________________________\n",
      "max_pooling2d_1 (MaxPooling2 (None, 4, 4, 16)          0         \n",
      "_________________________________________________________________\n",
      "flatten (Flatten)            (None, 256)               0         \n",
      "_________________________________________________________________\n",
      "dense (Dense)                (None, 120)               30840     \n",
      "_________________________________________________________________\n",
      "dropout (Dropout)            (None, 120)               0         \n",
      "_________________________________________________________________\n",
      "dense_1 (Dense)              (None, 84)                10164     \n",
      "_________________________________________________________________\n",
      "dropout_1 (Dropout)          (None, 84)                0         \n",
      "_________________________________________________________________\n",
      "dense_2 (Dense)              (None, 10)                850       \n",
      "=================================================================\n",
      "Total params: 44,426\n",
      "Trainable params: 44,426\n",
      "Non-trainable params: 0\n",
      "_________________________________________________________________\n"
     ]
    }
   ],
   "source": [
    "model.summary()"
   ]
  },
  {
   "cell_type": "code",
   "execution_count": 12,
   "metadata": {},
   "outputs": [],
   "source": [
    "model.save('mymodel.h5')"
   ]
  },
  {
   "cell_type": "code",
   "execution_count": 13,
   "metadata": {},
   "outputs": [],
   "source": [
    "model.save('mymodel')"
   ]
  },
  {
   "cell_type": "code",
   "execution_count": null,
   "metadata": {},
   "outputs": [],
   "source": []
  }
 ],
 "metadata": {
  "kernelspec": {
   "display_name": "tensorflow2",
   "language": "python",
   "name": "tensorflow2"
  },
  "language_info": {
   "codemirror_mode": {
    "name": "ipython",
    "version": 3
   },
   "file_extension": ".py",
   "mimetype": "text/x-python",
   "name": "python",
   "nbconvert_exporter": "python",
   "pygments_lexer": "ipython3",
   "version": "3.6.8"
  }
 },
 "nbformat": 4,
 "nbformat_minor": 2
}
