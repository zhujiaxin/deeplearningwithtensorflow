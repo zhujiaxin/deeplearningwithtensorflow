{
 "cells": [
  {
   "cell_type": "code",
   "execution_count": 1,
   "metadata": {
    "collapsed": true
   },
   "outputs": [],
   "source": [
    "import tensorflow.compat.v1 as tf"
   ]
  },
  {
   "cell_type": "code",
   "execution_count": 2,
   "metadata": {
    "collapsed": true
   },
   "outputs": [],
   "source": [
    "gpu_options = tf.GPUOptions(allow_growth=True, per_process_gpu_memory_fraction=0.8) #允许动态申请显存"
   ]
  },
  {
   "cell_type": "code",
   "execution_count": 3,
   "metadata": {
    "collapsed": true
   },
   "outputs": [],
   "source": [
    "sess = tf.Session(config=tf.ConfigProto(gpu_options=gpu_options))"
   ]
  },
  {
   "cell_type": "code",
   "execution_count": 4,
   "metadata": {},
   "outputs": [
    {
     "data": {
      "text/plain": [
       "<tensorflow.python.training.saver.Saver at 0x21ba8f25f60>"
      ]
     },
     "execution_count": 4,
     "metadata": {},
     "output_type": "execute_result"
    }
   ],
   "source": [
    "tf.train.import_meta_graph(r'ckpt\\vgg-ckpt.meta')"
   ]
  },
  {
   "cell_type": "code",
   "execution_count": 5,
   "metadata": {
    "collapsed": true
   },
   "outputs": [],
   "source": [
    "a = tf.get_collection(tf.GraphKeys.GLOBAL_VARIABLES)"
   ]
  },
  {
   "cell_type": "code",
   "execution_count": 6,
   "metadata": {},
   "outputs": [
    {
     "name": "stderr",
     "output_type": "stream",
     "text": [
      "WARNING: Logging before flag parsing goes to stderr.\n",
      "W0903 14:35:31.540482  2992 deprecation.py:323] From G:\\anaconda\\envs\\tensorflow1.12\\lib\\site-packages\\tensorflow\\python\\training\\saver.py:1276: checkpoint_exists (from tensorflow.python.training.checkpoint_management) is deprecated and will be removed in a future version.\n",
      "Instructions for updating:\n",
      "Use standard file APIs to check for files with this prefix.\n"
     ]
    }
   ],
   "source": [
    "tf.train.Saver().restore(sess=sess,save_path=r'ckpt\\vgg-ckpt')"
   ]
  },
  {
   "cell_type": "code",
   "execution_count": 7,
   "metadata": {},
   "outputs": [
    {
     "name": "stdout",
     "output_type": "stream",
     "text": [
      "[<tf.Variable 'conv1_1/weights:0' shape=(3, 3, 3, 64) dtype=float32_ref>, <tf.Variable 'conv1_1/baises:0' shape=(64,) dtype=float32_ref>, <tf.Variable 'conv1_2/weights:0' shape=(3, 3, 64, 64) dtype=float32_ref>, <tf.Variable 'conv1_2/baises:0' shape=(64,) dtype=float32_ref>, <tf.Variable 'conv2_1/weights:0' shape=(3, 3, 64, 128) dtype=float32_ref>, <tf.Variable 'conv2_1/baises:0' shape=(128,) dtype=float32_ref>, <tf.Variable 'conv2_2/weights:0' shape=(3, 3, 128, 128) dtype=float32_ref>, <tf.Variable 'conv2_2/biases:0' shape=(128,) dtype=float32_ref>, <tf.Variable 'conv3_1/weights:0' shape=(3, 3, 128, 256) dtype=float32_ref>, <tf.Variable 'conv3_1/biases:0' shape=(256,) dtype=float32_ref>, <tf.Variable 'conv3_2/weighs:0' shape=(3, 3, 256, 256) dtype=float32_ref>, <tf.Variable 'conv3_2/biases:0' shape=(256,) dtype=float32_ref>, <tf.Variable 'conv3_3/weights:0' shape=(3, 3, 256, 256) dtype=float32_ref>, <tf.Variable 'conv3_3/biases:0' shape=(256,) dtype=float32_ref>, <tf.Variable 'conv4_1/weights:0' shape=(3, 3, 256, 512) dtype=float32_ref>, <tf.Variable 'conv4_1/biases:0' shape=(512,) dtype=float32_ref>, <tf.Variable 'conv4_2/weights:0' shape=(3, 3, 512, 512) dtype=float32_ref>, <tf.Variable 'conv4_2/biases:0' shape=(512,) dtype=float32_ref>, <tf.Variable 'conv4_3/weights:0' shape=(3, 3, 512, 512) dtype=float32_ref>, <tf.Variable 'conv4_3/biases:0' shape=(512,) dtype=float32_ref>, <tf.Variable 'conv5_1/weights:0' shape=(3, 3, 512, 512) dtype=float32_ref>, <tf.Variable 'conv5_1/biases:0' shape=(512,) dtype=float32_ref>, <tf.Variable 'conv5_2/weights:0' shape=(3, 3, 512, 512) dtype=float32_ref>, <tf.Variable 'conv5_2/biases:0' shape=(512,) dtype=float32_ref>, <tf.Variable 'conv5_3/weights:0' shape=(3, 3, 512, 512) dtype=float32_ref>, <tf.Variable 'conv5_3/biases:0' shape=(512,) dtype=float32_ref>, <tf.Variable 'fc1/weights:0' shape=(25088, 4096) dtype=float32_ref>, <tf.Variable 'fc1/biases:0' shape=(4096,) dtype=float32_ref>, <tf.Variable 'fc2/weights:0' shape=(4096, 4096) dtype=float32_ref>, <tf.Variable 'fc2/biases:0' shape=(4096,) dtype=float32_ref>, <tf.Variable 'fc3/weights:0' shape=(4096, 1000) dtype=float32_ref>, <tf.Variable 'fc3/biases:0' shape=(1000,) dtype=float32_ref>]\n"
     ]
    }
   ],
   "source": [
    "print(a)"
   ]
  },
  {
   "cell_type": "code",
   "execution_count": 8,
   "metadata": {
    "collapsed": true
   },
   "outputs": [],
   "source": [
    "b = tf.get_default_graph().get_tensor_by_name('fc3/biases:0')"
   ]
  },
  {
   "cell_type": "code",
   "execution_count": 11,
   "metadata": {},
   "outputs": [
    {
     "name": "stdout",
     "output_type": "stream",
     "text": [
      "[-2.12323606e-01 -1.41706139e-01 -1.95266251e-02 -1.86747059e-01\n",
      " -6.39201626e-02 -1.68186441e-01  3.64029072e-02 -1.02393128e-01\n",
      " -2.17818677e-01 -2.48904943e-01 -1.58930928e-01 -3.20619702e-01\n",
      " -5.61225154e-02 -1.24132195e-02 -1.36607945e-01 -1.41343385e-01\n",
      " -1.28853051e-02  1.25695113e-03 -9.72066298e-02 -1.63681239e-01\n",
      " -1.02965295e-01  1.55715808e-01 -1.65020987e-01 -1.60337076e-01\n",
      " -2.23935634e-01 -4.39287070e-03 -1.30910367e-01 -1.03883371e-01\n",
      " -7.61212409e-02 -7.96204731e-02 -6.44800514e-02 -3.87056693e-02\n",
      " -1.37409523e-01 -5.95235191e-02  5.71232289e-02 -2.11167186e-01\n",
      " -1.51064530e-01  1.09745204e-01 -2.32608826e-03  2.02333275e-02\n",
      "  1.10179432e-01  1.12542786e-01 -3.58125707e-03 -1.22560784e-01\n",
      "  1.51920334e-01  9.09168422e-02  1.14091411e-01  2.44872019e-01\n",
      " -3.98065038e-02  1.73198253e-01  3.30216363e-02 -1.47749305e-01\n",
      "  5.24510304e-03  3.32831182e-02 -6.15949556e-02  5.70920929e-02\n",
      " -1.55646876e-01  2.65124321e-01  4.22154278e-01  1.64289266e-01\n",
      " -3.20148468e-01  1.99041650e-01  2.07470581e-01  1.77144691e-01\n",
      "  2.37781718e-01 -7.95922708e-03 -1.04943581e-01  2.29463980e-01\n",
      " -7.43395090e-02  1.04579046e-01  1.24108037e-02  5.29970154e-02\n",
      "  3.12331617e-01 -2.12835997e-01 -1.06595971e-01  2.00438142e-01\n",
      "  3.02978791e-02  1.86612070e-01 -9.65193063e-02  4.91341129e-02\n",
      " -3.15842628e-01 -2.36384630e-01 -9.04149935e-02 -2.67854661e-01\n",
      " -2.59712815e-01 -4.70098294e-02 -1.80398040e-02  1.36741415e-01\n",
      " -2.03069761e-01  5.38707199e-03 -2.36467659e-01  5.62146939e-02\n",
      " -2.98772067e-01 -1.57469943e-01  2.59035435e-02 -1.29074976e-01\n",
      " -1.04465194e-01 -9.93277356e-02 -7.44566023e-02 -3.22102338e-01\n",
      " -3.18116069e-01 -4.99682128e-02 -2.62654796e-02  9.64440405e-02\n",
      "  1.08973779e-01 -9.77506861e-02 -5.08425869e-02 -1.57546386e-01\n",
      "  8.89641270e-02 -2.25649074e-01 -7.73356974e-01 -2.07005143e-01\n",
      "  1.71944369e-02  2.08426639e-01  4.30946089e-02 -1.79202467e-01\n",
      " -7.71703050e-02 -7.77383596e-02  1.82012483e-01 -1.22650585e-03\n",
      "  1.48327082e-01  4.85529825e-02  2.43866161e-01 -3.68078798e-02\n",
      "  7.81461075e-02  1.64969102e-01 -4.36614245e-01 -1.15629144e-01\n",
      " -1.89427525e-01 -2.69518606e-03 -3.90024304e-01 -8.31908733e-02\n",
      "  1.13224357e-01  3.19498479e-02 -3.60253364e-01 -2.77855068e-01\n",
      " -2.26851344e-01 -2.28848189e-01  3.44435275e-02 -1.58424303e-01\n",
      "  1.96639858e-02 -4.07393724e-02 -1.32623449e-01 -3.99054527e-01\n",
      " -2.12141678e-01 -3.79287213e-01  5.00949332e-03 -8.57731178e-02\n",
      " -1.81683376e-01 -1.29957065e-01 -4.06883744e-04  2.07377970e-01\n",
      " -4.75702614e-01  2.58527547e-01 -9.90164801e-02  1.56156376e-01\n",
      "  1.88062057e-01 -9.55875218e-02 -1.68505490e-01  2.48829097e-01\n",
      " -6.29192591e-02  3.44119757e-01  3.40131044e-01 -6.11497872e-02\n",
      "  2.44989276e-01  3.06188092e-02  1.57902420e-01 -1.15978956e-01\n",
      "  1.84863180e-01 -1.23528719e-01  3.48650753e-01  2.55171359e-01\n",
      "  1.02902360e-01 -2.90244967e-01  2.14510217e-01  3.53564732e-02\n",
      " -2.13527083e-01  2.35429928e-01  2.51501352e-01  2.44761514e-03\n",
      "  1.80297971e-01 -6.34388905e-03  5.09865105e-01 -8.69898722e-02\n",
      "  1.82525203e-01  2.84993619e-01  2.32638210e-01  5.57222925e-02\n",
      "  1.54735833e-01  1.16847254e-01  3.70163135e-02  1.32233858e-01\n",
      "  4.14501250e-01  7.05278143e-02  1.74411997e-01  3.31319839e-01\n",
      "  9.25749391e-02 -1.07260123e-01 -1.30105510e-01  5.55609800e-02\n",
      " -3.10480475e-01 -6.97249845e-02  3.25340480e-01  2.82040685e-01\n",
      "  1.23767234e-01  2.29972899e-01 -2.47991472e-01  2.80623645e-01\n",
      "  2.99353823e-02  4.89125937e-01 -5.07730842e-02  1.48366272e-01\n",
      "  5.70948571e-02 -1.07573092e-01  3.44831571e-02  1.84052959e-01\n",
      " -2.97307760e-01  3.46276641e-01  6.39941096e-02 -1.54373283e-02\n",
      " -3.17827702e-01 -1.30111709e-01  1.84308350e-01  3.39971393e-01\n",
      " -1.20156072e-01  3.75041008e-01  9.46983248e-02  3.99513431e-02\n",
      " -1.74143597e-01  3.17126751e-01  9.70960930e-02 -1.71809897e-01\n",
      "  2.85157889e-01  1.36098891e-01  1.81389526e-01  1.71808928e-01\n",
      "  1.20217539e-02  9.70099419e-02  1.71566591e-01  3.09334069e-01\n",
      "  6.51709214e-02 -9.52418223e-02  8.46142843e-02 -1.50673002e-01\n",
      " -1.56285256e-01 -4.51765843e-02 -2.08687320e-01  1.76438197e-01\n",
      " -9.42912400e-02  9.18599665e-02  1.24319509e-01 -6.43078685e-02\n",
      "  1.22056626e-01 -1.73067063e-01  1.98620930e-01 -8.28250404e-03\n",
      "  1.07445300e-01  5.38066089e-01  3.24070565e-02  7.47284144e-02\n",
      " -1.52842283e-01  9.09145176e-02 -2.93550640e-01  3.13490957e-01\n",
      "  1.34844974e-01  1.45251587e-01  1.42737985e-01 -2.47074112e-01\n",
      "  1.13079958e-01  3.14883202e-01  3.06865033e-02 -1.45967230e-01\n",
      "  2.64850706e-01  1.36010991e-02  5.45828603e-02 -4.79551032e-02\n",
      "  1.18997104e-01  8.45100731e-02 -2.07912624e-01  1.37892917e-01\n",
      " -2.26688795e-02  4.49411780e-01 -1.14554912e-01  2.13761907e-02\n",
      "  1.19295396e-01  1.82863250e-01  7.94774368e-02  1.01537675e-01\n",
      " -1.87275320e-01  7.04419389e-02  1.13426326e-02 -4.44559939e-03\n",
      "  2.22855702e-01 -8.11776966e-02 -2.18394056e-01 -1.48201093e-01\n",
      " -1.79264575e-01 -7.42837563e-02 -3.17311376e-01  2.46565148e-01\n",
      " -3.04654896e-01 -6.08346127e-02 -3.26184988e-01 -2.45106462e-02\n",
      " -2.80570030e-01  6.02040440e-02  4.94608358e-02 -2.05710098e-01\n",
      " -1.89618990e-01  1.35977725e-02 -1.46852091e-01 -1.89166293e-01\n",
      " -1.57403737e-01  2.23361298e-01  8.48357379e-03 -2.86138039e-02\n",
      " -9.20939445e-02 -1.16133407e-01 -6.93070441e-02 -1.06038615e-01\n",
      " -8.72579738e-02 -2.63949066e-01 -1.80254713e-01 -2.59611309e-01\n",
      " -9.59237441e-02 -3.61554593e-01 -3.48016828e-01 -2.29370460e-01\n",
      " -3.37022632e-01 -4.90186214e-02 -9.93802026e-02 -2.29868516e-01\n",
      "  9.40011069e-02  2.60069042e-01  1.06677614e-01  6.79518580e-02\n",
      "  7.42625445e-03 -1.42759904e-01 -4.16748524e-01 -5.00139780e-02\n",
      " -1.14731021e-01 -1.88807726e-01  5.85153524e-04  6.79751039e-02\n",
      " -5.51565364e-03 -3.41863930e-01  2.63472587e-01  5.92641495e-02\n",
      " -2.17083737e-01  9.34973061e-02  4.66874167e-02 -2.30493709e-01\n",
      " -1.65697753e-01 -2.36761406e-01 -1.43824279e-01 -1.71277553e-01\n",
      " -1.88349918e-01 -1.75563797e-01  4.00275588e-02  2.33591318e-01\n",
      "  1.27920443e-02  5.79091236e-02 -1.23428330e-01  5.08565120e-02\n",
      "  5.68529293e-02  4.27383557e-02  9.76428911e-02 -6.80141896e-02\n",
      " -3.63550603e-01 -2.50504464e-01 -1.75690562e-01 -3.06705266e-01\n",
      "  5.92857860e-02  1.68082908e-01 -1.01753958e-01 -6.74160793e-02\n",
      " -1.22834869e-01  1.20976560e-01  3.38568330e-01  4.71893065e-02\n",
      " -3.14899057e-01 -8.19040835e-02  4.22259927e-01  4.96560819e-02\n",
      " -4.01947170e-01 -7.21601248e-02 -2.83517297e-02 -7.38676414e-02\n",
      " -2.70625263e-01 -9.56982821e-02 -1.26287490e-01  9.21095759e-02\n",
      " -2.72449702e-01  8.30601826e-02 -1.85408741e-01  1.06754638e-01\n",
      " -5.23509048e-02 -3.27926353e-02 -4.29225296e-01  9.61615294e-02\n",
      " -2.68748164e-01  3.48229222e-02 -9.26967636e-02  3.02183889e-02\n",
      " -1.82041228e-01  3.01436245e-01  2.19889745e-01 -3.02020669e-01\n",
      " -2.99036473e-01 -2.29967833e-01 -4.03366759e-02  2.74010119e-03\n",
      " -7.60478377e-02  2.14070175e-02 -9.92808957e-03  1.09518096e-01\n",
      "  5.47809452e-02 -2.14443997e-01 -3.88127640e-02  1.10027112e-01\n",
      "  8.63001794e-02 -1.09026894e-01 -4.44379926e-01  1.57961577e-01\n",
      "  3.88418078e-01 -9.30987224e-02 -2.00593799e-01 -3.94143015e-01\n",
      "  2.76999384e-01 -2.76881754e-01 -2.45977994e-02  6.18116520e-02\n",
      " -1.54404044e-01  5.95636517e-02 -9.68015492e-02 -3.80554795e-02\n",
      "  1.92538202e-01 -2.53902704e-01  1.26906797e-01 -4.18434322e-01\n",
      "  3.59356664e-02  1.06743202e-01  3.03134918e-02  7.96772167e-02\n",
      "  1.53593987e-01  2.81762034e-01 -9.64698941e-03 -2.39103213e-01\n",
      "  2.00148374e-01  6.83301091e-02 -1.12748824e-01 -1.41695827e-01\n",
      "  7.72262886e-02  4.37719285e-01  3.28358859e-01 -9.87312943e-02\n",
      "  2.35043928e-01  1.29182693e-02 -2.29334682e-01 -7.31632710e-02\n",
      " -3.56310494e-02 -7.71469623e-02 -4.11267467e-02 -1.84743181e-01\n",
      "  1.97621323e-02 -1.54743701e-01 -9.44059044e-02  1.70897409e-01\n",
      "  2.05339968e-01  5.79193421e-02 -1.47543788e-01  1.40179403e-03\n",
      " -1.59304962e-01  2.41777733e-01  3.13533276e-01  9.94566828e-02\n",
      " -2.15047851e-01  6.61554277e-01  2.15601802e-01 -3.26034635e-01\n",
      "  3.62915963e-01 -1.25578746e-01  1.30391777e-01 -2.03896046e-01\n",
      " -1.01061620e-01  2.35982344e-01 -1.08665332e-01  3.19816679e-01\n",
      " -5.96375823e-01  3.58648747e-01 -1.66183963e-01  2.11995900e-01\n",
      "  2.71255195e-01 -1.51585326e-01 -3.68063539e-01  1.71736702e-01\n",
      "  3.28822583e-01 -5.14503896e-01  1.06420293e-01 -9.34555531e-02\n",
      "  8.85837153e-03 -4.79865894e-02 -2.78120041e-01  2.66117603e-01\n",
      "  1.53323188e-01  1.88923091e-01 -5.50708234e-01 -3.17821652e-01\n",
      " -3.97314969e-03  3.36861581e-01 -3.53023075e-02  8.11930969e-02\n",
      "  2.01493874e-02  1.13539979e-01 -2.57008851e-01  1.20594323e-01\n",
      " -6.07023090e-02  2.53488541e-01 -1.93311870e-01  2.22055800e-02\n",
      "  3.40380799e-03  8.13584551e-02  2.13198051e-01  1.06076859e-01\n",
      "  8.93639550e-02 -1.16665944e-01  5.07529736e-01  2.82721758e-01\n",
      " -4.85968739e-02  2.36526996e-01 -9.78009477e-02  1.08019106e-01\n",
      "  1.10580362e-02  4.45747636e-02  7.24380836e-02  7.33082891e-02\n",
      " -1.83945850e-01  7.50664026e-02 -1.07252218e-01  9.72431004e-02\n",
      " -1.26904279e-01 -2.21656069e-01 -3.16477823e-03 -1.57726929e-01\n",
      "  8.37494805e-02  4.73893844e-02 -1.26203075e-01 -1.58091143e-01\n",
      "  2.56713152e-01  2.39656374e-01  2.41455734e-01  2.86579162e-01\n",
      " -5.89559004e-02 -7.70056620e-02 -1.27792493e-01  1.08871132e-01\n",
      " -1.80923402e-01  2.04007596e-01 -2.77992725e-01 -2.99343556e-01\n",
      " -3.47748756e-01  1.03403002e-01 -2.65172809e-01  3.17481279e-01\n",
      "  4.92871813e-02 -2.82148272e-01 -2.99710687e-02 -2.01014772e-01\n",
      "  8.91936645e-02  1.29341409e-01  1.58690795e-01 -2.31155492e-02\n",
      " -9.80640426e-02 -2.63858438e-01 -1.05089135e-01  7.02425977e-03\n",
      " -1.54035792e-01  2.88572237e-02 -9.40687880e-02  1.37397973e-02\n",
      " -1.85936883e-01 -1.99694633e-01 -1.88284636e-01  1.11082152e-01\n",
      " -2.98224032e-01  2.64982283e-01  1.02928899e-01  3.10218275e-01\n",
      "  6.37436509e-02  1.87500566e-01 -7.08252341e-02  1.78866297e-01\n",
      " -1.33074969e-02  6.07544789e-03  1.71582147e-01 -2.00540990e-01\n",
      "  1.77108720e-01  3.83099943e-01  3.11959125e-02 -1.12747177e-02\n",
      " -1.88991070e-01  1.06476126e-02 -2.41802081e-01  2.04456866e-01\n",
      " -7.02743009e-02  8.08617920e-02  9.99190882e-02 -2.96304584e-01\n",
      "  1.56103358e-01 -3.30614075e-02  7.68040195e-02  7.13191032e-02\n",
      "  1.09010130e-01  2.18562987e-02 -1.32266283e-01 -3.66455764e-01\n",
      " -3.09116870e-01  2.46384665e-01  3.83441150e-02 -1.35635167e-01\n",
      "  1.54956892e-01  8.23109671e-02 -1.90329432e-01  5.62940612e-02\n",
      "  2.08148494e-01 -6.86692521e-02 -6.46717623e-02  1.78772002e-01\n",
      " -3.54407094e-02  6.61408249e-03  3.19102481e-02  2.43296757e-01\n",
      " -7.89071843e-02  2.71633059e-01  3.53015721e-01  6.49214610e-02\n",
      " -4.93360311e-02 -2.53010899e-01 -2.20387116e-01 -2.12388903e-01\n",
      " -6.46074414e-02 -2.34868914e-01  4.86683026e-02 -1.73911035e-01\n",
      " -2.49400318e-01 -8.87992755e-02 -1.01867363e-01  1.10653363e-01\n",
      "  2.95795351e-01 -1.04534365e-01  5.02307303e-02  2.32064411e-01\n",
      "  3.03720366e-02  2.28106797e-01  3.42497155e-02  4.23023641e-01\n",
      "  3.24395865e-01  1.14638172e-01  1.40322417e-01 -1.24564677e-01\n",
      "  4.03874665e-02  5.32965958e-02  1.08100004e-01 -9.97158214e-02\n",
      " -8.61078352e-02  9.24116150e-02  7.92659074e-02 -5.05171157e-02\n",
      "  1.25704318e-01  1.04924835e-01  1.19186878e-01  3.99102718e-01\n",
      "  5.69467479e-03  2.62577444e-01  1.96448743e-01 -5.57917878e-02\n",
      " -2.83148378e-01 -5.71238659e-02 -4.18196283e-02 -1.34959996e-01\n",
      "  2.44432747e-01  1.96212813e-01  1.76779076e-01 -2.82300353e-01\n",
      " -3.63970757e-01  1.06617555e-01 -5.49449399e-02 -2.69589666e-02\n",
      " -7.15252105e-03  6.78250939e-02  4.73630019e-02  2.12414730e-02\n",
      "  1.51467890e-01 -3.08990121e-01  3.65680866e-02  8.44068602e-02\n",
      "  2.92029738e-01  5.76959401e-02  7.19695911e-02 -6.48553967e-02\n",
      " -5.92227131e-02 -6.63810447e-02 -1.56919926e-01  1.33844599e-01\n",
      "  6.46995530e-02 -3.79350543e-01  2.07627267e-01  1.97371587e-01\n",
      " -1.44551784e-01  1.61238596e-01  2.03476269e-02  8.17952156e-02\n",
      "  1.69843912e-01  2.65522212e-01 -2.47451484e-01 -1.04817912e-01\n",
      " -5.95463403e-02  1.93816096e-01 -6.51506409e-02 -4.01689187e-02\n",
      "  2.83639997e-01  1.85533717e-01  8.50528404e-02 -1.74677238e-01\n",
      "  3.15265991e-02  7.46492371e-02  2.13453308e-01 -1.24020875e-01\n",
      "  1.91519365e-01  1.78387798e-02 -2.83224076e-01  1.73476890e-01\n",
      " -1.59820512e-01 -2.07712919e-01 -9.83787403e-02 -1.17707163e-01\n",
      " -2.99897313e-01  1.97331998e-02 -1.30447000e-01  5.68884909e-01\n",
      "  2.02400357e-01  9.53263342e-02  1.09425671e-01  2.17016503e-01\n",
      " -1.16832331e-01  1.31859794e-01 -2.93441117e-01  9.95540619e-03\n",
      "  1.91912919e-01  1.83856502e-01  6.28124736e-03  2.33748883e-01\n",
      "  6.95756972e-02 -2.84148932e-01 -2.28914022e-01  1.14056818e-01\n",
      "  3.10754597e-01  1.30028361e-02  1.07273541e-01 -1.49803549e-01\n",
      "  2.18955293e-01  9.68839601e-03  1.54492613e-02  2.40088105e-01\n",
      "  1.37932509e-01 -1.65427938e-01 -2.00555414e-01  1.54215485e-01\n",
      " -3.49219590e-02  9.86149013e-02 -1.36984587e-02 -5.27915284e-02\n",
      " -3.73023301e-01 -1.16201438e-01 -6.46326020e-02  2.48952329e-01\n",
      "  1.94591254e-01  2.54418850e-01 -1.66224346e-01 -4.12210226e-01\n",
      "  1.77814230e-01 -9.66862813e-02 -1.80993870e-01 -2.21908018e-01\n",
      "  1.15384631e-01  3.85584295e-01  6.33145198e-02 -9.78029296e-02\n",
      "  2.13495135e-01 -1.01017216e-02 -3.74827951e-01  5.78340515e-02\n",
      "  1.85769886e-01  1.28680319e-01  3.46764982e-01 -2.88785577e-01\n",
      " -1.55606970e-01 -4.98000979e-02 -8.68151411e-02  1.56666309e-01\n",
      " -4.54940677e-01  2.88726598e-01 -1.78260416e-01 -1.81515068e-02\n",
      " -3.79383191e-02 -2.54814565e-01 -1.92338735e-01  8.07066336e-02\n",
      " -2.27573365e-02  2.66216874e-01 -2.47544155e-01 -1.62488446e-01\n",
      " -3.86822037e-03 -1.42082954e-02 -1.01989619e-01  5.81471808e-02\n",
      "  4.43896472e-01 -2.09462136e-01 -1.44992396e-01  1.18998215e-01\n",
      " -2.08252698e-01  1.03888009e-03  1.25588447e-01  8.77775550e-02\n",
      "  4.91692424e-02  4.57712077e-02 -6.72740415e-02 -1.40756741e-01\n",
      "  2.95674652e-01 -1.94071963e-01 -5.38161620e-02  1.03020057e-01\n",
      " -4.06550430e-02  5.53897619e-02  3.16263407e-01  4.94446047e-03\n",
      "  4.25704243e-03  1.64224878e-02  1.36242703e-01 -5.03990501e-02\n",
      "  4.39317338e-02 -4.33006249e-02  2.97178477e-01  6.68855384e-02\n",
      " -3.18897575e-01  2.87862033e-01 -8.61071944e-02 -4.33747284e-02\n",
      "  4.23714221e-01  1.36175096e-01  1.70700014e-01 -1.28886417e-01\n",
      " -1.13043129e-01 -9.36776772e-02 -1.45163909e-01  1.52960867e-01\n",
      " -1.64776385e-01  4.20643277e-02 -3.29479963e-01 -1.76425476e-03\n",
      "  2.03022644e-01 -2.42612045e-02 -1.43776894e-01 -1.55589879e-02\n",
      "  2.31185272e-01  3.16479951e-01 -2.24453323e-02 -1.69366643e-01\n",
      "  7.30249584e-02  4.30509336e-02  9.77676362e-02 -1.28292903e-01\n",
      " -4.14665528e-02 -1.81730893e-02 -2.19049051e-01 -7.10237622e-02\n",
      "  4.96124104e-02 -4.39426750e-02 -3.34551185e-02 -6.80715069e-02\n",
      "  2.98058003e-01 -7.57186860e-02  3.38989943e-01 -2.00808048e-01\n",
      "  1.28271684e-01 -1.61066711e-01 -7.84389302e-02  2.79846396e-02\n",
      " -1.29030854e-01  6.65723309e-02 -4.73634303e-02  8.44092946e-03\n",
      " -4.31498475e-02  3.50858659e-01  2.47312561e-01  1.71012580e-02\n",
      "  8.30148831e-02  6.95716217e-02  8.06149319e-02 -2.99709439e-01\n",
      " -1.18023872e-01 -9.03939828e-02 -9.29232780e-03  3.15105021e-02\n",
      "  2.79686868e-01  2.06215411e-01 -1.24735445e-01  1.25766218e-01\n",
      " -1.97523445e-01  9.39313471e-02  2.32210457e-01 -2.20749810e-01\n",
      " -2.17107475e-01  1.89073324e-01 -2.92044818e-01  1.45295607e-02\n",
      "  1.37102613e-02  2.79758453e-01  3.15825194e-01  1.66462526e-01\n",
      " -2.04868197e-01  3.67377341e-01  2.88046330e-01  2.12331444e-01\n",
      "  8.13924670e-02  2.92219184e-02  4.26095605e-01 -1.10298648e-01\n",
      "  2.13743925e-01  4.50479209e-01  2.79854797e-02  4.78031337e-02\n",
      " -2.62548029e-01  2.22016856e-01  2.69986063e-01  5.69859207e-01\n",
      "  1.06991112e-01 -7.44247437e-02 -1.06252879e-01  2.80053392e-02\n",
      "  1.37361407e-01  1.12478398e-01  8.59951749e-02  1.88605711e-01\n",
      " -3.55958283e-01  2.01783646e-02 -5.25891632e-02 -3.70123386e-01\n",
      "  1.17209004e-02 -2.47027010e-01 -1.97182924e-01  1.83795597e-02\n",
      " -3.78327928e-02 -1.44162744e-01 -3.15390490e-02  1.93142131e-01\n",
      " -1.94201559e-01 -1.09726980e-01 -1.05162881e-01 -1.20475190e-02\n",
      "  5.05213961e-02  1.61664739e-01  2.60368526e-01  1.99650526e-02\n",
      " -2.45607588e-02  4.94334280e-01 -6.90028071e-02  1.90971166e-01\n",
      " -3.54829967e-01  1.30861267e-01  8.78338411e-04  2.82411665e-01\n",
      " -6.83389008e-02 -1.79678407e-02  3.48581523e-02  9.36345533e-02\n",
      "  1.06942348e-01  3.35311353e-01 -1.95149288e-01  1.13856271e-01\n",
      " -1.75176784e-02  2.07067057e-01  3.09330225e-01  1.15253121e-01\n",
      " -1.90390095e-01 -3.61254513e-01 -2.33271167e-01  1.05221532e-02\n",
      "  2.05175385e-01  1.15790188e-01 -1.09400995e-01 -3.78039986e-01\n",
      " -1.19622044e-01 -3.06981206e-01 -2.28698120e-01 -3.59551072e-01\n",
      " -3.53780180e-01  1.17287606e-01 -4.48820367e-02  1.18562914e-01]\n"
     ]
    }
   ],
   "source": [
    "print(b.eval(session=sess))"
   ]
  },
  {
   "cell_type": "code",
   "execution_count": 14,
   "metadata": {},
   "outputs": [],
   "source": [
    "c = tf.get_default_graph().get_operations()"
   ]
  },
  {
   "cell_type": "code",
   "execution_count": 15,
   "metadata": {},
   "outputs": [
    {
     "name": "stdout",
     "output_type": "stream",
     "text": [
      "[<tf.Operation 'input/input_x' type=Placeholder>, <tf.Operation 'input/input_y' type=Placeholder>, <tf.Operation 'conv1_1/truncated_normal/shape' type=Const>, <tf.Operation 'conv1_1/truncated_normal/mean' type=Const>, <tf.Operation 'conv1_1/truncated_normal/stddev' type=Const>, <tf.Operation 'conv1_1/truncated_normal/TruncatedNormal' type=TruncatedNormal>, <tf.Operation 'conv1_1/truncated_normal/mul' type=Mul>, <tf.Operation 'conv1_1/truncated_normal' type=Add>, <tf.Operation 'conv1_1/weights' type=VariableV2>, <tf.Operation 'conv1_1/weights/Assign' type=Assign>, <tf.Operation 'conv1_1/weights/read' type=Identity>, <tf.Operation 'conv1_1/Const' type=Const>, <tf.Operation 'conv1_1/baises' type=VariableV2>, <tf.Operation 'conv1_1/baises/Assign' type=Assign>, <tf.Operation 'conv1_1/baises/read' type=Identity>, <tf.Operation 'conv1_1/Conv2D' type=Conv2D>, <tf.Operation 'conv1_1/BiasAdd' type=BiasAdd>, <tf.Operation 'conv1_1/Relu' type=Relu>, <tf.Operation 'conv1_2/truncated_normal/shape' type=Const>, <tf.Operation 'conv1_2/truncated_normal/mean' type=Const>, <tf.Operation 'conv1_2/truncated_normal/stddev' type=Const>, <tf.Operation 'conv1_2/truncated_normal/TruncatedNormal' type=TruncatedNormal>, <tf.Operation 'conv1_2/truncated_normal/mul' type=Mul>, <tf.Operation 'conv1_2/truncated_normal' type=Add>, <tf.Operation 'conv1_2/weights' type=VariableV2>, <tf.Operation 'conv1_2/weights/Assign' type=Assign>, <tf.Operation 'conv1_2/weights/read' type=Identity>, <tf.Operation 'conv1_2/Const' type=Const>, <tf.Operation 'conv1_2/baises' type=VariableV2>, <tf.Operation 'conv1_2/baises/Assign' type=Assign>, <tf.Operation 'conv1_2/baises/read' type=Identity>, <tf.Operation 'conv1_2/Conv2D' type=Conv2D>, <tf.Operation 'conv1_2/BiasAdd' type=BiasAdd>, <tf.Operation 'conv1_2/Relu' type=Relu>, <tf.Operation 'maxpool1/pool1' type=MaxPool>, <tf.Operation 'conv2_1/truncated_normal/shape' type=Const>, <tf.Operation 'conv2_1/truncated_normal/mean' type=Const>, <tf.Operation 'conv2_1/truncated_normal/stddev' type=Const>, <tf.Operation 'conv2_1/truncated_normal/TruncatedNormal' type=TruncatedNormal>, <tf.Operation 'conv2_1/truncated_normal/mul' type=Mul>, <tf.Operation 'conv2_1/truncated_normal' type=Add>, <tf.Operation 'conv2_1/weights' type=VariableV2>, <tf.Operation 'conv2_1/weights/Assign' type=Assign>, <tf.Operation 'conv2_1/weights/read' type=Identity>, <tf.Operation 'conv2_1/Const' type=Const>, <tf.Operation 'conv2_1/baises' type=VariableV2>, <tf.Operation 'conv2_1/baises/Assign' type=Assign>, <tf.Operation 'conv2_1/baises/read' type=Identity>, <tf.Operation 'conv2_1/Conv2D' type=Conv2D>, <tf.Operation 'conv2_1/BiasAdd' type=BiasAdd>, <tf.Operation 'conv2_1/Relu' type=Relu>, <tf.Operation 'conv2_2/truncated_normal/shape' type=Const>, <tf.Operation 'conv2_2/truncated_normal/mean' type=Const>, <tf.Operation 'conv2_2/truncated_normal/stddev' type=Const>, <tf.Operation 'conv2_2/truncated_normal/TruncatedNormal' type=TruncatedNormal>, <tf.Operation 'conv2_2/truncated_normal/mul' type=Mul>, <tf.Operation 'conv2_2/truncated_normal' type=Add>, <tf.Operation 'conv2_2/weights' type=VariableV2>, <tf.Operation 'conv2_2/weights/Assign' type=Assign>, <tf.Operation 'conv2_2/weights/read' type=Identity>, <tf.Operation 'conv2_2/Const' type=Const>, <tf.Operation 'conv2_2/biases' type=VariableV2>, <tf.Operation 'conv2_2/biases/Assign' type=Assign>, <tf.Operation 'conv2_2/biases/read' type=Identity>, <tf.Operation 'conv2_2/Conv2D' type=Conv2D>, <tf.Operation 'conv2_2/BiasAdd' type=BiasAdd>, <tf.Operation 'conv2_2/Relu' type=Relu>, <tf.Operation 'maxpool2/pool2' type=MaxPool>, <tf.Operation 'conv3_1/truncated_normal/shape' type=Const>, <tf.Operation 'conv3_1/truncated_normal/mean' type=Const>, <tf.Operation 'conv3_1/truncated_normal/stddev' type=Const>, <tf.Operation 'conv3_1/truncated_normal/TruncatedNormal' type=TruncatedNormal>, <tf.Operation 'conv3_1/truncated_normal/mul' type=Mul>, <tf.Operation 'conv3_1/truncated_normal' type=Add>, <tf.Operation 'conv3_1/weights' type=VariableV2>, <tf.Operation 'conv3_1/weights/Assign' type=Assign>, <tf.Operation 'conv3_1/weights/read' type=Identity>, <tf.Operation 'conv3_1/Const' type=Const>, <tf.Operation 'conv3_1/biases' type=VariableV2>, <tf.Operation 'conv3_1/biases/Assign' type=Assign>, <tf.Operation 'conv3_1/biases/read' type=Identity>, <tf.Operation 'conv3_1/Conv2D' type=Conv2D>, <tf.Operation 'conv3_1/BiasAdd' type=BiasAdd>, <tf.Operation 'conv3_1/Relu' type=Relu>, <tf.Operation 'conv3_2/truncated_normal/shape' type=Const>, <tf.Operation 'conv3_2/truncated_normal/mean' type=Const>, <tf.Operation 'conv3_2/truncated_normal/stddev' type=Const>, <tf.Operation 'conv3_2/truncated_normal/TruncatedNormal' type=TruncatedNormal>, <tf.Operation 'conv3_2/truncated_normal/mul' type=Mul>, <tf.Operation 'conv3_2/truncated_normal' type=Add>, <tf.Operation 'conv3_2/weighs' type=VariableV2>, <tf.Operation 'conv3_2/weighs/Assign' type=Assign>, <tf.Operation 'conv3_2/weighs/read' type=Identity>, <tf.Operation 'conv3_2/Const' type=Const>, <tf.Operation 'conv3_2/biases' type=VariableV2>, <tf.Operation 'conv3_2/biases/Assign' type=Assign>, <tf.Operation 'conv3_2/biases/read' type=Identity>, <tf.Operation 'conv3_2/Conv2D' type=Conv2D>, <tf.Operation 'conv3_2/BiasAdd' type=BiasAdd>, <tf.Operation 'conv3_2/Relu' type=Relu>, <tf.Operation 'conv3_3/truncated_normal/shape' type=Const>, <tf.Operation 'conv3_3/truncated_normal/mean' type=Const>, <tf.Operation 'conv3_3/truncated_normal/stddev' type=Const>, <tf.Operation 'conv3_3/truncated_normal/TruncatedNormal' type=TruncatedNormal>, <tf.Operation 'conv3_3/truncated_normal/mul' type=Mul>, <tf.Operation 'conv3_3/truncated_normal' type=Add>, <tf.Operation 'conv3_3/weights' type=VariableV2>, <tf.Operation 'conv3_3/weights/Assign' type=Assign>, <tf.Operation 'conv3_3/weights/read' type=Identity>, <tf.Operation 'conv3_3/Const' type=Const>, <tf.Operation 'conv3_3/biases' type=VariableV2>, <tf.Operation 'conv3_3/biases/Assign' type=Assign>, <tf.Operation 'conv3_3/biases/read' type=Identity>, <tf.Operation 'conv3_3/Conv2D' type=Conv2D>, <tf.Operation 'conv3_3/BiasAdd' type=BiasAdd>, <tf.Operation 'conv3_3/Relu' type=Relu>, <tf.Operation 'maxpool3/MaxPool' type=MaxPool>, <tf.Operation 'conv4_1/truncated_normal/shape' type=Const>, <tf.Operation 'conv4_1/truncated_normal/mean' type=Const>, <tf.Operation 'conv4_1/truncated_normal/stddev' type=Const>, <tf.Operation 'conv4_1/truncated_normal/TruncatedNormal' type=TruncatedNormal>, <tf.Operation 'conv4_1/truncated_normal/mul' type=Mul>, <tf.Operation 'conv4_1/truncated_normal' type=Add>, <tf.Operation 'conv4_1/weights' type=VariableV2>, <tf.Operation 'conv4_1/weights/Assign' type=Assign>, <tf.Operation 'conv4_1/weights/read' type=Identity>, <tf.Operation 'conv4_1/Const' type=Const>, <tf.Operation 'conv4_1/biases' type=VariableV2>, <tf.Operation 'conv4_1/biases/Assign' type=Assign>, <tf.Operation 'conv4_1/biases/read' type=Identity>, <tf.Operation 'conv4_1/Conv2D' type=Conv2D>, <tf.Operation 'conv4_1/BiasAdd' type=BiasAdd>, <tf.Operation 'conv4_1/Relu' type=Relu>, <tf.Operation 'conv4_2/truncated_normal/shape' type=Const>, <tf.Operation 'conv4_2/truncated_normal/mean' type=Const>, <tf.Operation 'conv4_2/truncated_normal/stddev' type=Const>, <tf.Operation 'conv4_2/truncated_normal/TruncatedNormal' type=TruncatedNormal>, <tf.Operation 'conv4_2/truncated_normal/mul' type=Mul>, <tf.Operation 'conv4_2/truncated_normal' type=Add>, <tf.Operation 'conv4_2/weights' type=VariableV2>, <tf.Operation 'conv4_2/weights/Assign' type=Assign>, <tf.Operation 'conv4_2/weights/read' type=Identity>, <tf.Operation 'conv4_2/Const' type=Const>, <tf.Operation 'conv4_2/biases' type=VariableV2>, <tf.Operation 'conv4_2/biases/Assign' type=Assign>, <tf.Operation 'conv4_2/biases/read' type=Identity>, <tf.Operation 'conv4_2/Conv2D' type=Conv2D>, <tf.Operation 'conv4_2/BiasAdd' type=BiasAdd>, <tf.Operation 'conv4_2/Relu' type=Relu>, <tf.Operation 'conv4_3/truncated_normal/shape' type=Const>, <tf.Operation 'conv4_3/truncated_normal/mean' type=Const>, <tf.Operation 'conv4_3/truncated_normal/stddev' type=Const>, <tf.Operation 'conv4_3/truncated_normal/TruncatedNormal' type=TruncatedNormal>, <tf.Operation 'conv4_3/truncated_normal/mul' type=Mul>, <tf.Operation 'conv4_3/truncated_normal' type=Add>, <tf.Operation 'conv4_3/weights' type=VariableV2>, <tf.Operation 'conv4_3/weights/Assign' type=Assign>, <tf.Operation 'conv4_3/weights/read' type=Identity>, <tf.Operation 'conv4_3/Const' type=Const>, <tf.Operation 'conv4_3/biases' type=VariableV2>, <tf.Operation 'conv4_3/biases/Assign' type=Assign>, <tf.Operation 'conv4_3/biases/read' type=Identity>, <tf.Operation 'conv4_3/Conv2D' type=Conv2D>, <tf.Operation 'conv4_3/BiasAdd' type=BiasAdd>, <tf.Operation 'conv4_3/Relu' type=Relu>, <tf.Operation 'maxpool4/MaxPool' type=MaxPool>, <tf.Operation 'conv5_1/truncated_normal/shape' type=Const>, <tf.Operation 'conv5_1/truncated_normal/mean' type=Const>, <tf.Operation 'conv5_1/truncated_normal/stddev' type=Const>, <tf.Operation 'conv5_1/truncated_normal/TruncatedNormal' type=TruncatedNormal>, <tf.Operation 'conv5_1/truncated_normal/mul' type=Mul>, <tf.Operation 'conv5_1/truncated_normal' type=Add>, <tf.Operation 'conv5_1/weights' type=VariableV2>, <tf.Operation 'conv5_1/weights/Assign' type=Assign>, <tf.Operation 'conv5_1/weights/read' type=Identity>, <tf.Operation 'conv5_1/Const' type=Const>, <tf.Operation 'conv5_1/biases' type=VariableV2>, <tf.Operation 'conv5_1/biases/Assign' type=Assign>, <tf.Operation 'conv5_1/biases/read' type=Identity>, <tf.Operation 'conv5_1/Conv2D' type=Conv2D>, <tf.Operation 'conv5_1/BiasAdd' type=BiasAdd>, <tf.Operation 'conv5_1/Relu' type=Relu>, <tf.Operation 'conv5_2/truncated_normal/shape' type=Const>, <tf.Operation 'conv5_2/truncated_normal/mean' type=Const>, <tf.Operation 'conv5_2/truncated_normal/stddev' type=Const>, <tf.Operation 'conv5_2/truncated_normal/TruncatedNormal' type=TruncatedNormal>, <tf.Operation 'conv5_2/truncated_normal/mul' type=Mul>, <tf.Operation 'conv5_2/truncated_normal' type=Add>, <tf.Operation 'conv5_2/weights' type=VariableV2>, <tf.Operation 'conv5_2/weights/Assign' type=Assign>, <tf.Operation 'conv5_2/weights/read' type=Identity>, <tf.Operation 'conv5_2/Const' type=Const>, <tf.Operation 'conv5_2/biases' type=VariableV2>, <tf.Operation 'conv5_2/biases/Assign' type=Assign>, <tf.Operation 'conv5_2/biases/read' type=Identity>, <tf.Operation 'conv5_2/Conv2D' type=Conv2D>, <tf.Operation 'conv5_2/BiasAdd' type=BiasAdd>, <tf.Operation 'conv5_2/Relu' type=Relu>, <tf.Operation 'conv5_3/truncated_normal/shape' type=Const>, <tf.Operation 'conv5_3/truncated_normal/mean' type=Const>, <tf.Operation 'conv5_3/truncated_normal/stddev' type=Const>, <tf.Operation 'conv5_3/truncated_normal/TruncatedNormal' type=TruncatedNormal>, <tf.Operation 'conv5_3/truncated_normal/mul' type=Mul>, <tf.Operation 'conv5_3/truncated_normal' type=Add>, <tf.Operation 'conv5_3/weights' type=VariableV2>, <tf.Operation 'conv5_3/weights/Assign' type=Assign>, <tf.Operation 'conv5_3/weights/read' type=Identity>, <tf.Operation 'conv5_3/Const' type=Const>, <tf.Operation 'conv5_3/biases' type=VariableV2>, <tf.Operation 'conv5_3/biases/Assign' type=Assign>, <tf.Operation 'conv5_3/biases/read' type=Identity>, <tf.Operation 'conv5_3/Conv2D' type=Conv2D>, <tf.Operation 'conv5_3/BiasAdd' type=BiasAdd>, <tf.Operation 'conv5_3/Relu' type=Relu>, <tf.Operation 'maxpool5/MaxPool' type=MaxPool>, <tf.Operation 'flatten/flatten/Shape' type=Shape>, <tf.Operation 'flatten/flatten/strided_slice/stack' type=Const>, <tf.Operation 'flatten/flatten/strided_slice/stack_1' type=Const>, <tf.Operation 'flatten/flatten/strided_slice/stack_2' type=Const>, <tf.Operation 'flatten/flatten/strided_slice' type=StridedSlice>, <tf.Operation 'flatten/flatten/Reshape/shape/1' type=Const>, <tf.Operation 'flatten/flatten/Reshape/shape' type=Pack>, <tf.Operation 'flatten/flatten/Reshape' type=Reshape>, <tf.Operation 'fc1/truncated_normal/shape' type=Const>, <tf.Operation 'fc1/truncated_normal/mean' type=Const>, <tf.Operation 'fc1/truncated_normal/stddev' type=Const>, <tf.Operation 'fc1/truncated_normal/TruncatedNormal' type=TruncatedNormal>, <tf.Operation 'fc1/truncated_normal/mul' type=Mul>, <tf.Operation 'fc1/truncated_normal' type=Add>, <tf.Operation 'fc1/weights' type=VariableV2>, <tf.Operation 'fc1/weights/Assign' type=Assign>, <tf.Operation 'fc1/weights/read' type=Identity>, <tf.Operation 'fc1/Const' type=Const>, <tf.Operation 'fc1/biases' type=VariableV2>, <tf.Operation 'fc1/biases/Assign' type=Assign>, <tf.Operation 'fc1/biases/read' type=Identity>, <tf.Operation 'fc1/MatMul' type=MatMul>, <tf.Operation 'fc1/BiasAdd' type=BiasAdd>, <tf.Operation 'fc1/Relu' type=Relu>, <tf.Operation 'fc2/truncated_normal/shape' type=Const>, <tf.Operation 'fc2/truncated_normal/mean' type=Const>, <tf.Operation 'fc2/truncated_normal/stddev' type=Const>, <tf.Operation 'fc2/truncated_normal/TruncatedNormal' type=TruncatedNormal>, <tf.Operation 'fc2/truncated_normal/mul' type=Mul>, <tf.Operation 'fc2/truncated_normal' type=Add>, <tf.Operation 'fc2/weights' type=VariableV2>, <tf.Operation 'fc2/weights/Assign' type=Assign>, <tf.Operation 'fc2/weights/read' type=Identity>, <tf.Operation 'fc2/Const' type=Const>, <tf.Operation 'fc2/biases' type=VariableV2>, <tf.Operation 'fc2/biases/Assign' type=Assign>, <tf.Operation 'fc2/biases/read' type=Identity>, <tf.Operation 'fc2/MatMul' type=MatMul>, <tf.Operation 'fc2/BiasAdd' type=BiasAdd>, <tf.Operation 'fc2/Relu' type=Relu>, <tf.Operation 'fc3/truncated_normal/shape' type=Const>, <tf.Operation 'fc3/truncated_normal/mean' type=Const>, <tf.Operation 'fc3/truncated_normal/stddev' type=Const>, <tf.Operation 'fc3/truncated_normal/TruncatedNormal' type=TruncatedNormal>, <tf.Operation 'fc3/truncated_normal/mul' type=Mul>, <tf.Operation 'fc3/truncated_normal' type=Add>, <tf.Operation 'fc3/weights' type=VariableV2>, <tf.Operation 'fc3/weights/Assign' type=Assign>, <tf.Operation 'fc3/weights/read' type=Identity>, <tf.Operation 'fc3/Const' type=Const>, <tf.Operation 'fc3/biases' type=VariableV2>, <tf.Operation 'fc3/biases/Assign' type=Assign>, <tf.Operation 'fc3/biases/read' type=Identity>, <tf.Operation 'fc3/MatMul' type=MatMul>, <tf.Operation 'fc3/BiasAdd' type=BiasAdd>, <tf.Operation 'Assign/value' type=Const>, <tf.Operation 'Assign' type=Assign>, <tf.Operation 'Assign_1/value' type=Const>, <tf.Operation 'Assign_1' type=Assign>, <tf.Operation 'Assign_2/value' type=Const>, <tf.Operation 'Assign_2' type=Assign>, <tf.Operation 'Assign_3/value' type=Const>, <tf.Operation 'Assign_3' type=Assign>, <tf.Operation 'Assign_4/value' type=Const>, <tf.Operation 'Assign_4' type=Assign>, <tf.Operation 'Assign_5/value' type=Const>, <tf.Operation 'Assign_5' type=Assign>, <tf.Operation 'Assign_6/value' type=Const>, <tf.Operation 'Assign_6' type=Assign>, <tf.Operation 'Assign_7/value' type=Const>, <tf.Operation 'Assign_7' type=Assign>, <tf.Operation 'Assign_8/value' type=Const>, <tf.Operation 'Assign_8' type=Assign>, <tf.Operation 'Assign_9/value' type=Const>, <tf.Operation 'Assign_9' type=Assign>, <tf.Operation 'Assign_10/value' type=Const>, <tf.Operation 'Assign_10' type=Assign>, <tf.Operation 'Assign_11/value' type=Const>, <tf.Operation 'Assign_11' type=Assign>, <tf.Operation 'Assign_12/value' type=Const>, <tf.Operation 'Assign_12' type=Assign>, <tf.Operation 'Assign_13/value' type=Const>, <tf.Operation 'Assign_13' type=Assign>, <tf.Operation 'Assign_14/value' type=Const>, <tf.Operation 'Assign_14' type=Assign>, <tf.Operation 'Assign_15/value' type=Const>, <tf.Operation 'Assign_15' type=Assign>, <tf.Operation 'Assign_16/value' type=Const>, <tf.Operation 'Assign_16' type=Assign>, <tf.Operation 'Assign_17/value' type=Const>, <tf.Operation 'Assign_17' type=Assign>, <tf.Operation 'Assign_18/value' type=Const>, <tf.Operation 'Assign_18' type=Assign>, <tf.Operation 'Assign_19/value' type=Const>, <tf.Operation 'Assign_19' type=Assign>, <tf.Operation 'Assign_20/value' type=Const>, <tf.Operation 'Assign_20' type=Assign>, <tf.Operation 'Assign_21/value' type=Const>, <tf.Operation 'Assign_21' type=Assign>, <tf.Operation 'Assign_22/value' type=Const>, <tf.Operation 'Assign_22' type=Assign>, <tf.Operation 'Assign_23/value' type=Const>, <tf.Operation 'Assign_23' type=Assign>, <tf.Operation 'Assign_24/value' type=Const>, <tf.Operation 'Assign_24' type=Assign>, <tf.Operation 'Assign_25/value' type=Const>, <tf.Operation 'Assign_25' type=Assign>, <tf.Operation 'Assign_26/value' type=Const>, <tf.Operation 'Assign_26' type=Assign>, <tf.Operation 'Assign_27/value' type=Const>, <tf.Operation 'Assign_27' type=Assign>, <tf.Operation 'Assign_28/value' type=Const>, <tf.Operation 'Assign_28' type=Assign>, <tf.Operation 'Assign_29/value' type=Const>, <tf.Operation 'Assign_29' type=Assign>, <tf.Operation 'Assign_30/value' type=Const>, <tf.Operation 'Assign_30' type=Assign>, <tf.Operation 'Assign_31/value' type=Const>, <tf.Operation 'Assign_31' type=Assign>, <tf.Operation 'save/filename/input' type=Const>, <tf.Operation 'save/filename' type=PlaceholderWithDefault>, <tf.Operation 'save/Const' type=PlaceholderWithDefault>, <tf.Operation 'save/SaveV2/tensor_names' type=Const>, <tf.Operation 'save/SaveV2/shape_and_slices' type=Const>, <tf.Operation 'save/SaveV2' type=SaveV2>, <tf.Operation 'save/control_dependency' type=Identity>, <tf.Operation 'save/RestoreV2/tensor_names' type=Const>, <tf.Operation 'save/RestoreV2/shape_and_slices' type=Const>, <tf.Operation 'save/RestoreV2' type=RestoreV2>, <tf.Operation 'save/Assign' type=Assign>, <tf.Operation 'save/Assign_1' type=Assign>, <tf.Operation 'save/Assign_2' type=Assign>, <tf.Operation 'save/Assign_3' type=Assign>, <tf.Operation 'save/Assign_4' type=Assign>, <tf.Operation 'save/Assign_5' type=Assign>, <tf.Operation 'save/Assign_6' type=Assign>, <tf.Operation 'save/Assign_7' type=Assign>, <tf.Operation 'save/Assign_8' type=Assign>, <tf.Operation 'save/Assign_9' type=Assign>, <tf.Operation 'save/Assign_10' type=Assign>, <tf.Operation 'save/Assign_11' type=Assign>, <tf.Operation 'save/Assign_12' type=Assign>, <tf.Operation 'save/Assign_13' type=Assign>, <tf.Operation 'save/Assign_14' type=Assign>, <tf.Operation 'save/Assign_15' type=Assign>, <tf.Operation 'save/Assign_16' type=Assign>, <tf.Operation 'save/Assign_17' type=Assign>, <tf.Operation 'save/Assign_18' type=Assign>, <tf.Operation 'save/Assign_19' type=Assign>, <tf.Operation 'save/Assign_20' type=Assign>, <tf.Operation 'save/Assign_21' type=Assign>, <tf.Operation 'save/Assign_22' type=Assign>, <tf.Operation 'save/Assign_23' type=Assign>, <tf.Operation 'save/Assign_24' type=Assign>, <tf.Operation 'save/Assign_25' type=Assign>, <tf.Operation 'save/Assign_26' type=Assign>, <tf.Operation 'save/Assign_27' type=Assign>, <tf.Operation 'save/Assign_28' type=Assign>, <tf.Operation 'save/Assign_29' type=Assign>, <tf.Operation 'save/Assign_30' type=Assign>, <tf.Operation 'save/Assign_31' type=Assign>, <tf.Operation 'save/restore_all' type=NoOp>, <tf.Operation 'save/filename_1/input' type=Const>, <tf.Operation 'save/filename_1' type=PlaceholderWithDefault>, <tf.Operation 'save/Const_1' type=PlaceholderWithDefault>, <tf.Operation 'save/SaveV2_1/tensor_names' type=Const>, <tf.Operation 'save/SaveV2_1/shape_and_slices' type=Const>, <tf.Operation 'save/SaveV2_1' type=SaveV2>, <tf.Operation 'save/control_dependency_1' type=Identity>, <tf.Operation 'save/RestoreV2_1/tensor_names' type=Const>, <tf.Operation 'save/RestoreV2_1/shape_and_slices' type=Const>, <tf.Operation 'save/RestoreV2_1' type=RestoreV2>, <tf.Operation 'save/Assign_32' type=Assign>, <tf.Operation 'save/Assign_33' type=Assign>, <tf.Operation 'save/Assign_34' type=Assign>, <tf.Operation 'save/Assign_35' type=Assign>, <tf.Operation 'save/Assign_36' type=Assign>, <tf.Operation 'save/Assign_37' type=Assign>, <tf.Operation 'save/Assign_38' type=Assign>, <tf.Operation 'save/Assign_39' type=Assign>, <tf.Operation 'save/Assign_40' type=Assign>, <tf.Operation 'save/Assign_41' type=Assign>, <tf.Operation 'save/Assign_42' type=Assign>, <tf.Operation 'save/Assign_43' type=Assign>, <tf.Operation 'save/Assign_44' type=Assign>, <tf.Operation 'save/Assign_45' type=Assign>, <tf.Operation 'save/Assign_46' type=Assign>, <tf.Operation 'save/Assign_47' type=Assign>, <tf.Operation 'save/Assign_48' type=Assign>, <tf.Operation 'save/Assign_49' type=Assign>, <tf.Operation 'save/Assign_50' type=Assign>, <tf.Operation 'save/Assign_51' type=Assign>, <tf.Operation 'save/Assign_52' type=Assign>, <tf.Operation 'save/Assign_53' type=Assign>, <tf.Operation 'save/Assign_54' type=Assign>, <tf.Operation 'save/Assign_55' type=Assign>, <tf.Operation 'save/Assign_56' type=Assign>, <tf.Operation 'save/Assign_57' type=Assign>, <tf.Operation 'save/Assign_58' type=Assign>, <tf.Operation 'save/Assign_59' type=Assign>, <tf.Operation 'save/Assign_60' type=Assign>, <tf.Operation 'save/Assign_61' type=Assign>, <tf.Operation 'save/Assign_62' type=Assign>, <tf.Operation 'save/Assign_63' type=Assign>, <tf.Operation 'save/restore_all_1' type=NoOp>]\n"
     ]
    }
   ],
   "source": [
    "print(c)"
   ]
  },
  {
   "cell_type": "code",
   "execution_count": 19,
   "metadata": {},
   "outputs": [],
   "source": [
    "\n",
    "e = tf.get_default_graph().get_operation_by_name('fc3/BiasAdd').outputs[0]"
   ]
  },
  {
   "cell_type": "code",
   "execution_count": 20,
   "metadata": {},
   "outputs": [
    {
     "data": {
      "text/plain": [
       "<tf.Tensor 'fc3/BiasAdd:0' shape=(?, 1000) dtype=float32>"
      ]
     },
     "execution_count": 20,
     "metadata": {},
     "output_type": "execute_result"
    }
   ],
   "source": [
    "e"
   ]
  },
  {
   "cell_type": "code",
   "execution_count": null,
   "metadata": {
    "collapsed": true
   },
   "outputs": [],
   "source": []
  }
 ],
 "metadata": {
  "kernelspec": {
   "display_name": "Python [conda env:tensorflow1.12]",
   "language": "python",
   "name": "conda-env-tensorflow1.12-py"
  },
  "language_info": {
   "codemirror_mode": {
    "name": "ipython",
    "version": 3
   },
   "file_extension": ".py",
   "mimetype": "text/x-python",
   "name": "python",
   "nbconvert_exporter": "python",
   "pygments_lexer": "ipython3",
   "version": "3.6.8"
  }
 },
 "nbformat": 4,
 "nbformat_minor": 2
}
