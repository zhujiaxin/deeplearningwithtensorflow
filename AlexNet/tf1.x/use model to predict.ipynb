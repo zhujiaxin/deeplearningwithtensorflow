{
 "cells": [
  {
   "cell_type": "code",
   "execution_count": 1,
   "metadata": {},
   "outputs": [],
   "source": [
    "import tensorflow.compat.v1 as tf\n",
    "import numpy as np\n",
    "#import matplotlib.image as mpimg\n",
    "from PIL import Image"
   ]
  },
  {
   "cell_type": "code",
   "execution_count": 2,
   "metadata": {},
   "outputs": [],
   "source": [
    "import AlexNet"
   ]
  },
  {
   "cell_type": "code",
   "execution_count": 3,
   "metadata": {},
   "outputs": [],
   "source": [
    "model = AlexNet.AlexNet2(trainable=False)"
   ]
  },
  {
   "cell_type": "code",
   "execution_count": 4,
   "metadata": {},
   "outputs": [
    {
     "data": {
      "text/plain": [
       "'\\nim1 = (imread(r\"picture\\\\poodle.png\")[:,:,:3]).astype(np.float32)\\nim1 = im1 - np.mean(im1)\\nim1[:, :, 0], im1[:, :, 2] = im1[:, :, 2], im1[:, :, 0]'"
      ]
     },
     "execution_count": 4,
     "metadata": {},
     "output_type": "execute_result"
    }
   ],
   "source": [
    "image = Image.open(r\"picture\\poodle.png\")\n",
    "type(image)\n",
    "'''\n",
    "im1 = (imread(r\"picture\\poodle.png\")[:,:,:3]).astype(np.float32)\n",
    "im1 = im1 - np.mean(im1)\n",
    "im1[:, :, 0], im1[:, :, 2] = im1[:, :, 2], im1[:, :, 0]'''"
   ]
  },
  {
   "cell_type": "code",
   "execution_count": 41,
   "metadata": {},
   "outputs": [],
   "source": [
    "image1= np.array(image).astype(np.float32)\n",
    "image2 = image1[:,:,:3]"
   ]
  },
  {
   "cell_type": "code",
   "execution_count": 40,
   "metadata": {},
   "outputs": [
    {
     "data": {
      "text/plain": [
       "array([[[ -9.336609 ,  -7.336609 ,  -9.336609 ],\n",
       "        [ -8.336609 ,  -6.336609 ,  -6.336609 ],\n",
       "        [ -8.336609 ,  -7.336609 ,  -4.336609 ],\n",
       "        ...,\n",
       "        [ 12.663391 ,   9.663391 ,   4.663391 ],\n",
       "        [ 14.663391 ,   9.663391 ,   7.663391 ],\n",
       "        [ 14.663391 ,  11.663391 ,   5.663391 ]],\n",
       "\n",
       "       [[  2.663391 ,   4.663391 ,   0.6633911],\n",
       "        [ -4.336609 ,  -2.336609 ,  -6.336609 ],\n",
       "        [  9.663391 ,  11.663391 ,  10.663391 ],\n",
       "        ...,\n",
       "        [  8.663391 ,   7.663391 ,   5.663391 ],\n",
       "        [  7.663391 ,   7.663391 ,   5.663391 ],\n",
       "        [  8.663391 ,   7.663391 ,   3.663391 ]],\n",
       "\n",
       "       [[ 25.663391 ,  26.663391 ,  21.663391 ],\n",
       "        [ 19.663391 ,  20.663391 ,  15.663391 ],\n",
       "        [ 18.663391 ,  19.663391 ,  14.663391 ],\n",
       "        ...,\n",
       "        [  4.663391 ,   4.663391 ,   4.663391 ],\n",
       "        [  3.663391 ,   3.663391 ,   3.663391 ],\n",
       "        [ -0.3366089,  -0.3366089,  -2.336609 ]],\n",
       "\n",
       "       ...,\n",
       "\n",
       "       [[-25.336609 , -20.336609 , -17.336609 ],\n",
       "        [-18.336609 , -13.336609 , -10.336609 ],\n",
       "        [-18.336609 , -14.336609 , -12.336609 ],\n",
       "        ...,\n",
       "        [ 27.663391 ,  28.663391 ,  29.663391 ],\n",
       "        [-15.336609 , -15.336609 , -13.336609 ],\n",
       "        [-25.336609 , -23.336609 , -24.336609 ]],\n",
       "\n",
       "       [[-14.336609 ,  -9.336609 ,  -6.336609 ],\n",
       "        [-16.336609 , -10.336609 ,  -7.336609 ],\n",
       "        [-25.336609 , -16.336609 , -14.336609 ],\n",
       "        ...,\n",
       "        [  5.663391 ,   6.663391 ,   7.663391 ],\n",
       "        [  2.663391 ,   3.663391 ,   6.663391 ],\n",
       "        [ -7.336609 ,  -6.336609 ,  -9.336609 ]],\n",
       "\n",
       "       [[ -1.3366089,   2.663391 ,   5.663391 ],\n",
       "        [-16.336609 , -12.336609 ,  -9.336609 ],\n",
       "        [ -1.3366089,   3.663391 ,   6.663391 ],\n",
       "        ...,\n",
       "        [  2.663391 ,   3.663391 ,   4.663391 ],\n",
       "        [ -3.336609 ,  -2.336609 ,  -0.3366089],\n",
       "        [ -3.336609 ,   1.6633911,   3.663391 ]]], dtype=float32)"
      ]
     },
     "execution_count": 40,
     "metadata": {},
     "output_type": "execute_result"
    }
   ],
   "source": [
    "image3 = image2 - np.mean(image2)\n",
    "image3"
   ]
  },
  {
   "cell_type": "code",
   "execution_count": 7,
   "metadata": {},
   "outputs": [
    {
     "name": "stderr",
     "output_type": "stream",
     "text": [
      "WARNING: Logging before flag parsing goes to stderr.\n",
      "W1020 18:36:01.975589  1336 deprecation.py:323] From D:\\anaconda\\envs\\tensorflow1.14\\lib\\site-packages\\tensorflow\\python\\training\\saver.py:1276: checkpoint_exists (from tensorflow.python.training.checkpoint_management) is deprecated and will be removed in a future version.\n",
      "Instructions for updating:\n",
      "Use standard file APIs to check for files with this prefix.\n"
     ]
    }
   ],
   "source": [
    "config = tf.ConfigProto() \n",
    "config.gpu_options.allow_growth=True\n",
    "config.gpu_options.per_process_gpu_memory_fraction = 0.4  #占用40%显存\n",
    "sess = tf.Session(config=config)\n",
    "saver = tf.train.Saver()\n",
    "saver.restore(sess, 'ckpt/my_alexnet')"
   ]
  },
  {
   "cell_type": "code",
   "execution_count": 8,
   "metadata": {},
   "outputs": [
    {
     "data": {
      "text/plain": [
       "(1, 227, 227, 3)"
      ]
     },
     "execution_count": 8,
     "metadata": {},
     "output_type": "execute_result"
    }
   ],
   "source": [
    "im1 = image3.reshape([-1, 227, 227, 3])\n",
    "im1.shape"
   ]
  },
  {
   "cell_type": "code",
   "execution_count": 54,
   "metadata": {},
   "outputs": [],
   "source": [
    "output = tf.get_default_graph().get_operation_by_name('first_conv_layer_part1/BiasAdd')\n",
    "output2 = output.outputs[0]"
   ]
  },
  {
   "cell_type": "code",
   "execution_count": 55,
   "metadata": {},
   "outputs": [],
   "source": [
    "value=sess.run(output2[0], feed_dict={model.input_x: im1})"
   ]
  },
  {
   "cell_type": "code",
   "execution_count": 26,
   "metadata": {},
   "outputs": [],
   "source": [
    "variable1 = tf.get_default_graph().get_tensor_by_name('first_conv_layer_part1/kernel_bias:0')"
   ]
  },
  {
   "cell_type": "code",
   "execution_count": 56,
   "metadata": {
    "scrolled": true
   },
   "outputs": [
    {
     "name": "stdout",
     "output_type": "stream",
     "text": [
      "[[[-1.10268402e+00 -3.20483551e+01  2.12042580e+01 ... -1.48631163e+01\n",
      "    1.01266298e+01 -3.48338544e-01]\n",
      "  [ 4.70879936e+00 -7.77621841e+00  1.01575823e+01 ... -7.49351072e+00\n",
      "    5.03844547e+00 -9.06182826e-01]\n",
      "  [-6.73593998e-01 -1.65937881e+01  1.58319073e+01 ...  8.94460082e-02\n",
      "   -2.84996182e-01  5.90685987e+00]\n",
      "  ...\n",
      "  [-6.85947180e-01 -4.21462173e+01 -4.27603817e+00 ...  2.47963548e+00\n",
      "    8.14347076e+00  1.67325172e+01]\n",
      "  [ 2.33977437e+00  1.84017813e+00 -8.94118786e+00 ...  1.83340049e+00\n",
      "    3.26671314e+00  1.75168819e+01]\n",
      "  [-5.01206064e+00 -2.43922367e+01  7.91442156e+00 ...  3.87943649e+00\n",
      "    2.57440519e+00  1.73581467e+01]]\n",
      "\n",
      " [[ 4.42348123e-02 -3.84629135e+01 -5.36383533e+00 ... -1.00420084e+01\n",
      "    1.39524431e+01  9.73215580e+00]\n",
      "  [ 1.26360226e+00 -2.20942249e+01 -1.04057751e+01 ...  3.31194592e+00\n",
      "   -3.33088279e+00  8.52737045e+00]\n",
      "  [ 5.42230606e+00  2.11462612e+01 -7.53164864e+00 ... -1.19208050e+00\n",
      "   -5.78969121e-02  6.26378345e+00]\n",
      "  ...\n",
      "  [-1.84573007e+00 -7.64214945e+00 -9.98754025e+00 ... -1.40000069e+00\n",
      "    7.57250309e+00 -4.34862757e+00]\n",
      "  [ 1.22191191e+00 -4.05113220e+01 -1.10950632e+01 ...  1.45231628e+00\n",
      "    4.36926270e+00  5.13488960e+00]\n",
      "  [-5.32563066e+00 -3.98398628e+01 -1.75308533e+01 ...  6.80133820e+00\n",
      "    2.46577120e+00  1.12319660e+01]]\n",
      "\n",
      " [[ 2.01555514e+00  3.05810814e+01 -4.11463022e+00 ... -6.10760641e+00\n",
      "    5.50352001e+00 -6.36723423e+00]\n",
      "  [-5.33144474e-01  2.66568089e+01 -5.18518591e+00 ...  8.45423508e+00\n",
      "    4.86721635e-01 -1.37403536e+00]\n",
      "  [ 4.73296070e+00  2.96566029e+01 -8.89969349e+00 ... -5.57506752e+00\n",
      "    5.06437588e+00 -6.60048676e+00]\n",
      "  ...\n",
      "  [ 1.52160263e+00  3.84809570e+01  1.17373648e+01 ...  3.04588413e+00\n",
      "   -1.01136236e+01 -3.77899766e-01]\n",
      "  [ 3.83077788e+00  6.12176552e+01  1.03715773e+01 ...  3.49035740e+00\n",
      "   -1.55619612e+01 -9.81071663e+00]\n",
      "  [-8.06006670e-01  5.53016624e+01  1.86568871e+01 ...  6.24126291e+00\n",
      "   -9.38850307e+00 -9.62104797e+00]]\n",
      "\n",
      " ...\n",
      "\n",
      " [[-3.40826869e+00  2.15824966e+01  1.35738535e+01 ...  1.58157473e+01\n",
      "   -5.58425999e+00  2.00997424e+00]\n",
      "  [ 1.05194759e+01  7.82821426e+01 -1.46801209e+00 ...  2.06440983e+01\n",
      "    6.84820175e+00  1.29494324e+01]\n",
      "  [-3.18649709e-01 -6.64942627e+01  2.82717438e+01 ... -5.75672626e+00\n",
      "    2.13794785e+01  2.26104794e+01]\n",
      "  ...\n",
      "  [ 4.47658587e+00  7.94504547e+01 -2.82756996e+01 ...  2.80258512e+00\n",
      "   -1.21409092e+01 -3.51550412e+00]\n",
      "  [-6.96950340e+00  1.18332028e+00  1.49335670e+01 ...  4.17938375e+00\n",
      "   -1.61342049e+01 -1.18805046e+01]\n",
      "  [ 5.57805204e+00 -3.77042084e+01  1.02059622e+01 ...  1.11127019e-01\n",
      "   -1.41115880e+00 -1.40816984e+01]]\n",
      "\n",
      " [[-1.91170006e+01  6.70848694e+01 -1.04544983e+01 ...  1.21989260e+01\n",
      "   -4.90813160e+00  4.63968754e+00]\n",
      "  [ 1.60154152e+00  1.29779816e+02 -1.20966730e+01 ...  3.38898993e+00\n",
      "   -3.81299639e+00 -1.34927483e+01]\n",
      "  [ 1.27402611e+01  6.81936798e+01 -3.33454819e+01 ... -1.20281756e+00\n",
      "   -1.13436425e+00 -1.35240488e+01]\n",
      "  ...\n",
      "  [ 8.78178895e-01 -7.26354065e+01  3.32997475e+01 ...  6.27884531e+00\n",
      "   -4.83800983e+00  1.54788589e+01]\n",
      "  [-4.92506647e+00 -3.23599319e+01  2.69430256e+01 ... -8.20938230e-01\n",
      "    1.54826746e+01  1.44697514e+01]\n",
      "  [ 2.64647484e-01  1.29442139e+02 -1.26684704e+01 ... -7.03234053e+00\n",
      "    1.29373379e+01  2.59278083e+00]]\n",
      "\n",
      " [[-8.45716667e+00 -5.94438553e+01 -2.97464538e+00 ...  9.07273293e+00\n",
      "    3.15622830e+00  5.93049240e+00]\n",
      "  [ 6.31461859e+00  1.57432251e+01  4.60975170e+00 ...  9.01830971e-01\n",
      "   -1.60307956e+00  1.37590051e-01]\n",
      "  [ 1.09820652e+00  4.15064926e+01  1.14807701e+01 ... -3.28374982e+00\n",
      "   -3.88668799e+00 -1.05402603e+01]\n",
      "  ...\n",
      "  [ 4.77566338e+00 -4.81021347e+01 -8.47105217e+00 ...  1.24161482e-01\n",
      "    1.97106934e+01  1.54619026e+01]\n",
      "  [ 1.48019266e+00  7.61874313e+01 -3.90403481e+01 ... -7.28372860e+00\n",
      "    2.09912319e+01  1.39509678e+01]\n",
      "  [-7.39448357e+00 -1.03993835e+01 -1.73632793e+01 ...  5.48025656e+00\n",
      "   -6.48100793e-01  8.72333622e+00]]]\n"
     ]
    }
   ],
   "source": [
    "print(value)"
   ]
  },
  {
   "cell_type": "code",
   "execution_count": 11,
   "metadata": {},
   "outputs": [],
   "source": [
    "index = np.argsort(value)[-5:]"
   ]
  },
  {
   "cell_type": "code",
   "execution_count": 12,
   "metadata": {},
   "outputs": [
    {
     "data": {
      "text/plain": [
       "array([228, 181, 267, 265, 266], dtype=int64)"
      ]
     },
     "execution_count": 12,
     "metadata": {},
     "output_type": "execute_result"
    }
   ],
   "source": [
    "index"
   ]
  },
  {
   "cell_type": "code",
   "execution_count": 13,
   "metadata": {},
   "outputs": [
    {
     "data": {
      "text/plain": [
       "array([0.05748022, 0.13473406, 0.1687309 , 0.2247034 , 0.3658793 ],\n",
       "      dtype=float32)"
      ]
     },
     "execution_count": 13,
     "metadata": {},
     "output_type": "execute_result"
    }
   ],
   "source": [
    "value[index]"
   ]
  },
  {
   "cell_type": "code",
   "execution_count": 22,
   "metadata": {},
   "outputs": [],
   "source": [
    "sess.close()"
   ]
  },
  {
   "cell_type": "code",
   "execution_count": null,
   "metadata": {},
   "outputs": [],
   "source": []
  }
 ],
 "metadata": {
  "kernelspec": {
   "display_name": "tensorflow1.14",
   "language": "python",
   "name": "tensorflow1.14"
  },
  "language_info": {
   "codemirror_mode": {
    "name": "ipython",
    "version": 3
   },
   "file_extension": ".py",
   "mimetype": "text/x-python",
   "name": "python",
   "nbconvert_exporter": "python",
   "pygments_lexer": "ipython3",
   "version": "3.7.3"
  }
 },
 "nbformat": 4,
 "nbformat_minor": 2
}
