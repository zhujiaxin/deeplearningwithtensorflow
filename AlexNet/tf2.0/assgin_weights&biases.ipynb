{
 "cells": [
  {
   "cell_type": "code",
   "execution_count": 1,
   "metadata": {},
   "outputs": [],
   "source": [
    "import tensorflow as tf\n",
    "import numpy as np\n",
    "import tensorflow.keras as keras\n",
    "from utils.costumelayers import MyDenseLayer, MyConv2DLayer\n",
    "from utils.downloadmodel import download\n",
    "import os\n",
    "from scipy.misc import imread  \n",
    "from scipy.misc import imresize\n",
    "import matplotlib.image as mpimg\n",
    "from scipy.ndimage import filters\n",
    "import urllib\n",
    "from PIL import Image"
   ]
  },
  {
   "cell_type": "code",
   "execution_count": 2,
   "metadata": {},
   "outputs": [],
   "source": [
    "image = Image.open(r\"picture\\poodle.png\")\n",
    "image1= np.array(image).astype(np.float32)\n",
    "image2 = image1[:,:,:3]\n",
    "image3 = image2 - np.mean(image2)\n",
    "image3 = image3.reshape([-1, 227, 227 ,3])"
   ]
  },
  {
   "cell_type": "code",
   "execution_count": 3,
   "metadata": {},
   "outputs": [],
   "source": [
    "#im1 = (imread(r\"picture\\poodle.png\")[:,:,:3]).astype(np.float32)\n",
    "#im1 = im1 - np.mean(im1)\n",
    "#im1[:, :, 0], im1[:, :, 2] = im1[:, :, 2], im1[:, :, 0]\n",
    "#im1 = im1.reshape([-1, 227, 227, 3])"
   ]
  },
  {
   "cell_type": "code",
   "execution_count": 4,
   "metadata": {},
   "outputs": [
    {
     "data": {
      "text/plain": [
       "VirtualDeviceConfiguration(memory_limit=2048)"
      ]
     },
     "execution_count": 4,
     "metadata": {},
     "output_type": "execute_result"
    }
   ],
   "source": [
    "gpus = tf.config.experimental.list_physical_devices(device_type='GPU')\n",
    "for i in gpus:\n",
    "    tf.config.experimental.set_memory_growth(device=i, enable=True)\n",
    "tf.config.experimental.VirtualDeviceConfiguration(memory_limit=2048)"
   ]
  },
  {
   "cell_type": "markdown",
   "metadata": {},
   "source": [
    "**if download is slow, just go to http://www.cs.toronto.edu/~guerzhoy/tf_alexnet, and download the file**"
   ]
  },
  {
   "cell_type": "code",
   "execution_count": 5,
   "metadata": {},
   "outputs": [],
   "source": [
    "path = r'bvlc_alexnet.npy'\n",
    "if  not os.path.exists(path):\n",
    "    downloadmodel.download('http://www.cs.toronto.edu/~guerzhoy/tf_alexnet/bvlc_alexnet.npy', path)"
   ]
  },
  {
   "cell_type": "code",
   "execution_count": 6,
   "metadata": {},
   "outputs": [],
   "source": [
    "data = np.load(path, allow_pickle=True, fix_imports=True, encoding='latin1')\n",
    "data_1 = data.item()\n",
    "keys = sorted(data_1.keys())"
   ]
  },
  {
   "cell_type": "code",
   "execution_count": 8,
   "metadata": {
    "scrolled": true
   },
   "outputs": [],
   "source": [
    "alex_input = keras.Input([227, 227, 3], dtype=tf.float32)\n",
    "#alex_image = tf.constant(image3, dtype=tf.float32)\n",
    "weights = tf.constant(data_1['conv1'][0], dtype=tf.float32)\n",
    "biases = tf.constant(data_1['conv1'][1], dtype=tf.float32)\n",
    "conv1_layer = MyConv2DLayer(kernels=weights,\n",
    "                      biases=biases,\n",
    "                      activation='relu', \n",
    "                      padding='VALID',\n",
    "                      strides=[4, 4])\n",
    "conv1 = conv1_layer(alex_input)\n",
    "conv1_lrn = tf.nn.local_response_normalization(conv1, depth_radius=2, bias=1, alpha=2e-05, beta=0.75)\n",
    "conv1_max_pool = keras.layers.MaxPool2D(pool_size=(3, 3),strides=[2, 2],padding='valid')(conv1_lrn)\n",
    "conv1_max_pool_1,conv1_max_pool_2 = tf.split(conv1_max_pool, 2, axis=-1)"
   ]
  },
  {
   "cell_type": "code",
   "execution_count": 9,
   "metadata": {},
   "outputs": [],
   "source": [
    "weights2_1,weights2_2 = tf.split(tf.constant(data_1['conv2'][0], dtype=tf.float32), 2, axis=-1)\n",
    "biases2_1, biases2_2= tf.split(tf.constant(data_1['conv2'][1], dtype=tf.float32), 2, axis=-1)\n",
    "conv2_layer1 = MyConv2DLayer(kernels=weights2_1,\n",
    "                        biases=biases2_1,\n",
    "                        strides=[1, 1],\n",
    "                        padding='SAME',\n",
    "                        activation='relu')\n",
    "conv2_1 =conv2_layer1(conv1_max_pool_1)\n",
    "conv2_layer2 = MyConv2DLayer(kernels=weights2_2,\n",
    "                        biases=biases2_2,\n",
    "                        strides=[1, 1],\n",
    "                        padding='SAME',\n",
    "                        activation='relu')\n",
    "conv2_2 = conv2_layer2(conv1_max_pool_2)\n",
    "conv2 = tf.concat([conv2_1, conv2_2], axis=-1)\n",
    "conv2_lrn = tf.nn.local_response_normalization(conv2, depth_radius=2, bias=1, alpha=2e-05, beta=0.75)\n",
    "conv2_maxpool = keras.layers.MaxPool2D(pool_size=(3, 3),strides=[2, 2],padding='valid')(conv2_lrn)"
   ]
  },
  {
   "cell_type": "code",
   "execution_count": 10,
   "metadata": {},
   "outputs": [],
   "source": [
    "weights3 = tf.constant(data_1['conv3'][0])\n",
    "bias3 = tf.constant(data_1['conv3'][1])\n",
    "conv3_layer = MyConv2DLayer(kernels=weights3,\n",
    "                      biases=bias3,\n",
    "                      strides=[1, 1],\n",
    "                      padding='SAME',\n",
    "                      activation='relu')\n",
    "conv3 = conv3_layer(conv2_maxpool)"
   ]
  },
  {
   "cell_type": "code",
   "execution_count": 11,
   "metadata": {},
   "outputs": [],
   "source": [
    "conv3_1,conv3_2 = tf.split(conv3, 2, axis=-1)\n",
    "weight4_1, weight4_2 = tf.split(tf.constant(data_1['conv4'][0], dtype=tf.float32),2, axis=-1)\n",
    "bias4_1, bias4_2 = tf.split(tf.constant(data_1['conv4'][1], dtype=tf.float32),2, axis=-1)\n",
    "conv4_layer1 = MyConv2DLayer(kernels=weight4_1,\n",
    "                        biases=bias4_1,\n",
    "                        strides=[1, 1],\n",
    "                        padding='SAME',\n",
    "                        activation='relu')\n",
    "conv4_1 = conv4_layer1(conv3_1)\n",
    "conv4_layer2 = MyConv2DLayer(kernels=weight4_2,\n",
    "                        biases=bias4_2,\n",
    "                        strides=[1, 1],\n",
    "                        padding='SAME',\n",
    "                        activation='relu')\n",
    "conv4_2 = conv4_layer2(conv3_2)"
   ]
  },
  {
   "cell_type": "code",
   "execution_count": 12,
   "metadata": {},
   "outputs": [],
   "source": [
    "weight5_1, weight5_2 = tf.split(tf.constant(data_1['conv5'][0], dtype=tf.float32),2, axis=-1)\n",
    "bias5_1, bias5_2 = tf.split(tf.constant(data_1['conv5'][1], dtype=tf.float32),2, axis=-1)\n",
    "conv5_layer1 = MyConv2DLayer(kernels=weight5_1,\n",
    "                        biases=bias5_1,\n",
    "                        strides=[1, 1],\n",
    "                        padding='SAME',\n",
    "                        activation='relu')\n",
    "conv5_1 = conv5_layer1(conv4_1)\n",
    "conv5_layer2 = MyConv2DLayer(kernels=weight5_2,\n",
    "                        biases=bias5_2,\n",
    "                        strides=[1, 1],\n",
    "                        padding='SAME',\n",
    "                        activation='relu')\n",
    "conv5_2 = conv5_layer2(conv4_2)\n",
    "conv5 = tf.concat([conv5_1, conv5_2], axis=-1)\n",
    "conv5_maxpool = keras.layers.MaxPool2D(pool_size=(3, 3),strides=[2, 2],padding='valid')(conv5)"
   ]
  },
  {
   "cell_type": "code",
   "execution_count": 13,
   "metadata": {},
   "outputs": [],
   "source": [
    "flatten = keras.layers.Flatten()(conv5_maxpool)"
   ]
  },
  {
   "cell_type": "code",
   "execution_count": 14,
   "metadata": {},
   "outputs": [],
   "source": [
    "weight6 = tf.constant(data_1['fc6'][0], dtype=tf.float32)\n",
    "biases6 = tf.constant(data_1['fc6'][1], dtype=tf.float32)\n",
    "fc_layer1 = MyDenseLayer(weights=weight6,\n",
    "                    biases=biases6,\n",
    "                    activation='relu')\n",
    "fcn1 = fc_layer1(flatten)"
   ]
  },
  {
   "cell_type": "code",
   "execution_count": 15,
   "metadata": {},
   "outputs": [],
   "source": [
    "weight7 = tf.constant(data_1['fc7'][0], dtype=tf.float32)\n",
    "biases7 = tf.constant(data_1['fc7'][1], dtype=tf.float32)\n",
    "fc_layer2 = MyDenseLayer(weights=weight7,\n",
    "                    biases=biases7,\n",
    "                    activation='relu')\n",
    "fcn2 = fc_layer2(fcn1)"
   ]
  },
  {
   "cell_type": "code",
   "execution_count": 16,
   "metadata": {},
   "outputs": [],
   "source": [
    "weight8 = tf.constant(data_1['fc8'][0], dtype=tf.float32)\n",
    "biases8 = tf.constant(data_1['fc8'][1], dtype=tf.float32)\n",
    "fc_layer3 = MyDenseLayer(weights=weight8,\n",
    "                    biases=biases8,\n",
    "                    activation='softmax')\n",
    "out = fc_layer3(fcn2)"
   ]
  },
  {
   "cell_type": "code",
   "execution_count": 19,
   "metadata": {},
   "outputs": [],
   "source": [
    "model = keras.Model(inputs=alex_input, outputs=out)"
   ]
  },
  {
   "cell_type": "code",
   "execution_count": 20,
   "metadata": {},
   "outputs": [
    {
     "name": "stdout",
     "output_type": "stream",
     "text": [
      "Model: \"model\"\n",
      "__________________________________________________________________________________________________\n",
      "Layer (type)                    Output Shape         Param #     Connected to                     \n",
      "==================================================================================================\n",
      "input_2 (InputLayer)            [(None, 227, 227, 3) 0                                            \n",
      "__________________________________________________________________________________________________\n",
      "my_conv2d_layer_1 (MyConv2DLaye (None, 55, 55, 96)   34944       input_2[0][0]                    \n",
      "__________________________________________________________________________________________________\n",
      "tf_op_layer_LRN (TensorFlowOpLa [(None, 55, 55, 96)] 0           my_conv2d_layer_1[0][0]          \n",
      "__________________________________________________________________________________________________\n",
      "max_pooling2d (MaxPooling2D)    (None, 27, 27, 96)   0           tf_op_layer_LRN[0][0]            \n",
      "__________________________________________________________________________________________________\n",
      "tf_op_layer_split (TensorFlowOp [(None, 27, 27, 48), 0           max_pooling2d[0][0]              \n",
      "__________________________________________________________________________________________________\n",
      "my_conv2d_layer_2 (MyConv2DLaye (None, 27, 27, 128)  153728      tf_op_layer_split[0][0]          \n",
      "__________________________________________________________________________________________________\n",
      "my_conv2d_layer_3 (MyConv2DLaye (None, 27, 27, 128)  153728      tf_op_layer_split[0][1]          \n",
      "__________________________________________________________________________________________________\n",
      "tf_op_layer_concat (TensorFlowO [(None, 27, 27, 256) 0           my_conv2d_layer_2[0][0]          \n",
      "                                                                 my_conv2d_layer_3[0][0]          \n",
      "__________________________________________________________________________________________________\n",
      "tf_op_layer_LRN_1 (TensorFlowOp [(None, 27, 27, 256) 0           tf_op_layer_concat[0][0]         \n",
      "__________________________________________________________________________________________________\n",
      "max_pooling2d_1 (MaxPooling2D)  (None, 13, 13, 256)  0           tf_op_layer_LRN_1[0][0]          \n",
      "__________________________________________________________________________________________________\n",
      "my_conv2d_layer_4 (MyConv2DLaye (None, 13, 13, 384)  885120      max_pooling2d_1[0][0]            \n",
      "__________________________________________________________________________________________________\n",
      "tf_op_layer_split_1 (TensorFlow [(None, 13, 13, 192) 0           my_conv2d_layer_4[0][0]          \n",
      "__________________________________________________________________________________________________\n",
      "my_conv2d_layer_5 (MyConv2DLaye (None, 13, 13, 192)  331968      tf_op_layer_split_1[0][0]        \n",
      "__________________________________________________________________________________________________\n",
      "my_conv2d_layer_6 (MyConv2DLaye (None, 13, 13, 192)  331968      tf_op_layer_split_1[0][1]        \n",
      "__________________________________________________________________________________________________\n",
      "my_conv2d_layer_7 (MyConv2DLaye (None, 13, 13, 128)  221312      my_conv2d_layer_5[0][0]          \n",
      "__________________________________________________________________________________________________\n",
      "my_conv2d_layer_8 (MyConv2DLaye (None, 13, 13, 128)  221312      my_conv2d_layer_6[0][0]          \n",
      "__________________________________________________________________________________________________\n",
      "tf_op_layer_concat_1 (TensorFlo [(None, 13, 13, 256) 0           my_conv2d_layer_7[0][0]          \n",
      "                                                                 my_conv2d_layer_8[0][0]          \n",
      "__________________________________________________________________________________________________\n",
      "max_pooling2d_2 (MaxPooling2D)  (None, 6, 6, 256)    0           tf_op_layer_concat_1[0][0]       \n",
      "__________________________________________________________________________________________________\n",
      "flatten (Flatten)               (None, 9216)         0           max_pooling2d_2[0][0]            \n",
      "__________________________________________________________________________________________________\n",
      "my_dense_layer (MyDenseLayer)   (None, 4096)         37752832    flatten[0][0]                    \n",
      "__________________________________________________________________________________________________\n",
      "my_dense_layer_1 (MyDenseLayer) (None, 4096)         16781312    my_dense_layer[0][0]             \n",
      "__________________________________________________________________________________________________\n",
      "my_dense_layer_2 (MyDenseLayer) (None, 1000)         4097000     my_dense_layer_1[0][0]           \n",
      "==================================================================================================\n",
      "Total params: 60,965,224\n",
      "Trainable params: 60,965,224\n",
      "Non-trainable params: 0\n",
      "__________________________________________________________________________________________________\n"
     ]
    }
   ],
   "source": [
    "model.summary()"
   ]
  },
  {
   "cell_type": "code",
   "execution_count": 23,
   "metadata": {},
   "outputs": [],
   "source": [
    "output = model.predict(image3)"
   ]
  },
  {
   "cell_type": "code",
   "execution_count": 24,
   "metadata": {},
   "outputs": [],
   "source": [
    "output1 = output[0]\n",
    "output2 = np.argsort(output1)"
   ]
  },
  {
   "cell_type": "code",
   "execution_count": 25,
   "metadata": {},
   "outputs": [
    {
     "data": {
      "text/plain": [
       "array([986, 957, 352, 926, 576], dtype=int64)"
      ]
     },
     "execution_count": 25,
     "metadata": {},
     "output_type": "execute_result"
    }
   ],
   "source": [
    "output2[:5]"
   ]
  },
  {
   "cell_type": "code",
   "execution_count": 26,
   "metadata": {},
   "outputs": [
    {
     "data": {
      "text/plain": [
       "array([228, 181, 267, 265, 266], dtype=int64)"
      ]
     },
     "execution_count": 26,
     "metadata": {},
     "output_type": "execute_result"
    }
   ],
   "source": [
    "output2[-5:]"
   ]
  },
  {
   "cell_type": "code",
   "execution_count": 29,
   "metadata": {},
   "outputs": [],
   "source": [
    "model.save(r'alexnet\\1')"
   ]
  },
  {
   "cell_type": "code",
   "execution_count": null,
   "metadata": {},
   "outputs": [],
   "source": []
  }
 ],
 "metadata": {
  "kernelspec": {
   "display_name": "tensorflow2",
   "language": "python",
   "name": "tensorflow2"
  },
  "language_info": {
   "codemirror_mode": {
    "name": "ipython",
    "version": 3
   },
   "file_extension": ".py",
   "mimetype": "text/x-python",
   "name": "python",
   "nbconvert_exporter": "python",
   "pygments_lexer": "ipython3",
   "version": "3.6.8"
  }
 },
 "nbformat": 4,
 "nbformat_minor": 2
}
